{
 "cells": [
  {
   "cell_type": "code",
   "execution_count": 1,
   "metadata": {},
   "outputs": [
    {
     "data": {
      "text/plain": [
       "True"
      ]
     },
     "execution_count": 1,
     "metadata": {},
     "output_type": "execute_result"
    }
   ],
   "source": [
    "import pandas as pd\n",
    "import numpy as np\n",
    "import seaborn as sns\n",
    "import matplotlib.pyplot as plt\n",
    "%matplotlib inline\n",
    "import os\n",
    "from dotenv import load_dotenv\n",
    "load_dotenv()"
   ]
  },
  {
   "cell_type": "code",
   "execution_count": 2,
   "metadata": {},
   "outputs": [],
   "source": [
    "DATA_PATH = os.environ.get(\"DATA_PATH\")"
   ]
  },
  {
   "cell_type": "code",
   "execution_count": 4,
   "metadata": {},
   "outputs": [],
   "source": [
    "# df = pd.read_csv(os.path.join(DATA_PATH, \"modelling_data.csv\"))\n",
    "df = pd.read_csv(\"/Users/yutikarege/Desktop/Personal Projects/AnimalShelterProject/AnimalShelter/data/modelling_data.csv\")"
   ]
  },
  {
   "cell_type": "code",
   "execution_count": 5,
   "metadata": {},
   "outputs": [
    {
     "data": {
      "text/plain": [
       "count\n",
       "1    79672\n",
       "Name: count, dtype: int64"
      ]
     },
     "execution_count": 5,
     "metadata": {},
     "output_type": "execute_result"
    }
   ],
   "source": [
    "df[\"count\"].value_counts() #can drop this inconsequential column"
   ]
  },
  {
   "cell_type": "code",
   "execution_count": 6,
   "metadata": {},
   "outputs": [],
   "source": [
    "df.drop([\"count\"], axis=1, inplace=True)"
   ]
  },
  {
   "cell_type": "code",
   "execution_count": 7,
   "metadata": {},
   "outputs": [
    {
     "data": {
      "text/html": [
       "<div>\n",
       "<style scoped>\n",
       "    .dataframe tbody tr th:only-of-type {\n",
       "        vertical-align: middle;\n",
       "    }\n",
       "\n",
       "    .dataframe tbody tr th {\n",
       "        vertical-align: top;\n",
       "    }\n",
       "\n",
       "    .dataframe thead th {\n",
       "        text-align: right;\n",
       "    }\n",
       "</style>\n",
       "<table border=\"1\" class=\"dataframe\">\n",
       "  <thead>\n",
       "    <tr style=\"text-align: right;\">\n",
       "      <th></th>\n",
       "      <th>0</th>\n",
       "      <th>1</th>\n",
       "      <th>2</th>\n",
       "      <th>3</th>\n",
       "      <th>4</th>\n",
       "    </tr>\n",
       "  </thead>\n",
       "  <tbody>\n",
       "    <tr>\n",
       "      <th>age_upon_intake</th>\n",
       "      <td>10 years</td>\n",
       "      <td>7 years</td>\n",
       "      <td>6 years</td>\n",
       "      <td>10 years</td>\n",
       "      <td>16 years</td>\n",
       "    </tr>\n",
       "    <tr>\n",
       "      <th>animal_type</th>\n",
       "      <td>Dog</td>\n",
       "      <td>Dog</td>\n",
       "      <td>Dog</td>\n",
       "      <td>Dog</td>\n",
       "      <td>Dog</td>\n",
       "    </tr>\n",
       "    <tr>\n",
       "      <th>intake_condition</th>\n",
       "      <td>Normal</td>\n",
       "      <td>Normal</td>\n",
       "      <td>Normal</td>\n",
       "      <td>Normal</td>\n",
       "      <td>Injured</td>\n",
       "    </tr>\n",
       "    <tr>\n",
       "      <th>intake_type</th>\n",
       "      <td>Stray</td>\n",
       "      <td>Public Assist</td>\n",
       "      <td>Public Assist</td>\n",
       "      <td>Owner Surrender</td>\n",
       "      <td>Public Assist</td>\n",
       "    </tr>\n",
       "    <tr>\n",
       "      <th>sex_upon_intake</th>\n",
       "      <td>Neutered Male</td>\n",
       "      <td>Neutered Male</td>\n",
       "      <td>Neutered Male</td>\n",
       "      <td>Neutered Male</td>\n",
       "      <td>Neutered Male</td>\n",
       "    </tr>\n",
       "    <tr>\n",
       "      <th>age_upon_intake_(years)</th>\n",
       "      <td>10.0</td>\n",
       "      <td>7.0</td>\n",
       "      <td>6.0</td>\n",
       "      <td>10.0</td>\n",
       "      <td>16.0</td>\n",
       "    </tr>\n",
       "    <tr>\n",
       "      <th>age_upon_intake_age_group</th>\n",
       "      <td>(7.5, 10.0]</td>\n",
       "      <td>(5.0, 7.5]</td>\n",
       "      <td>(5.0, 7.5]</td>\n",
       "      <td>(7.5, 10.0]</td>\n",
       "      <td>(15.0, 17.5]</td>\n",
       "    </tr>\n",
       "    <tr>\n",
       "      <th>intake_month</th>\n",
       "      <td>12</td>\n",
       "      <td>12</td>\n",
       "      <td>3</td>\n",
       "      <td>4</td>\n",
       "      <td>11</td>\n",
       "    </tr>\n",
       "    <tr>\n",
       "      <th>intake_weekday</th>\n",
       "      <td>Thursday</td>\n",
       "      <td>Friday</td>\n",
       "      <td>Friday</td>\n",
       "      <td>Wednesday</td>\n",
       "      <td>Saturday</td>\n",
       "    </tr>\n",
       "    <tr>\n",
       "      <th>intake_hour</th>\n",
       "      <td>14</td>\n",
       "      <td>10</td>\n",
       "      <td>14</td>\n",
       "      <td>15</td>\n",
       "      <td>9</td>\n",
       "    </tr>\n",
       "    <tr>\n",
       "      <th>intake_number</th>\n",
       "      <td>1.0</td>\n",
       "      <td>2.0</td>\n",
       "      <td>3.0</td>\n",
       "      <td>1.0</td>\n",
       "      <td>1.0</td>\n",
       "    </tr>\n",
       "    <tr>\n",
       "      <th>time_in_shelter</th>\n",
       "      <td>0 days 14:07:00.000000000</td>\n",
       "      <td>1 days 06:14:00.000000000</td>\n",
       "      <td>1 days 02:44:00.000000000</td>\n",
       "      <td>4 days 23:17:00.000000000</td>\n",
       "      <td>0 days 02:52:00.000000000</td>\n",
       "    </tr>\n",
       "    <tr>\n",
       "      <th>time_in_shelter_days</th>\n",
       "      <td>0.588194</td>\n",
       "      <td>1.259722</td>\n",
       "      <td>1.113889</td>\n",
       "      <td>4.970139</td>\n",
       "      <td>0.119444</td>\n",
       "    </tr>\n",
       "    <tr>\n",
       "      <th>is_mix</th>\n",
       "      <td>Yes</td>\n",
       "      <td>Yes</td>\n",
       "      <td>Yes</td>\n",
       "      <td>No</td>\n",
       "      <td>No</td>\n",
       "    </tr>\n",
       "    <tr>\n",
       "      <th>parent_breed</th>\n",
       "      <td>Spinone Italiano</td>\n",
       "      <td>Spinone Italiano</td>\n",
       "      <td>Spinone Italiano</td>\n",
       "      <td>Dachshund</td>\n",
       "      <td>Shetland Sheepdog</td>\n",
       "    </tr>\n",
       "    <tr>\n",
       "      <th>breed_unsure</th>\n",
       "      <td>Spinone Italiano</td>\n",
       "      <td>Spinone Italiano</td>\n",
       "      <td>Spinone Italiano</td>\n",
       "      <td>Dachshund</td>\n",
       "      <td>Shetland Sheepdog</td>\n",
       "    </tr>\n",
       "    <tr>\n",
       "      <th>color_combination</th>\n",
       "      <td>Yellow and White</td>\n",
       "      <td>Yellow and White</td>\n",
       "      <td>Yellow and White</td>\n",
       "      <td>Tricolor</td>\n",
       "      <td>Brown and White</td>\n",
       "    </tr>\n",
       "    <tr>\n",
       "      <th>animal_has_multicolor_fur</th>\n",
       "      <td>Yes</td>\n",
       "      <td>Yes</td>\n",
       "      <td>Yes</td>\n",
       "      <td>No</td>\n",
       "      <td>Yes</td>\n",
       "    </tr>\n",
       "    <tr>\n",
       "      <th>outcome_type</th>\n",
       "      <td>Return to Owner</td>\n",
       "      <td>Return to Owner</td>\n",
       "      <td>Return to Owner</td>\n",
       "      <td>Transfer</td>\n",
       "      <td>Return to Owner</td>\n",
       "    </tr>\n",
       "  </tbody>\n",
       "</table>\n",
       "</div>"
      ],
      "text/plain": [
       "                                                   0  \\\n",
       "age_upon_intake                             10 years   \n",
       "animal_type                                      Dog   \n",
       "intake_condition                              Normal   \n",
       "intake_type                                    Stray   \n",
       "sex_upon_intake                        Neutered Male   \n",
       "age_upon_intake_(years)                         10.0   \n",
       "age_upon_intake_age_group                (7.5, 10.0]   \n",
       "intake_month                                      12   \n",
       "intake_weekday                              Thursday   \n",
       "intake_hour                                       14   \n",
       "intake_number                                    1.0   \n",
       "time_in_shelter            0 days 14:07:00.000000000   \n",
       "time_in_shelter_days                        0.588194   \n",
       "is_mix                                           Yes   \n",
       "parent_breed                       Spinone Italiano    \n",
       "breed_unsure                       Spinone Italiano    \n",
       "color_combination                   Yellow and White   \n",
       "animal_has_multicolor_fur                        Yes   \n",
       "outcome_type                         Return to Owner   \n",
       "\n",
       "                                                   1  \\\n",
       "age_upon_intake                              7 years   \n",
       "animal_type                                      Dog   \n",
       "intake_condition                              Normal   \n",
       "intake_type                            Public Assist   \n",
       "sex_upon_intake                        Neutered Male   \n",
       "age_upon_intake_(years)                          7.0   \n",
       "age_upon_intake_age_group                 (5.0, 7.5]   \n",
       "intake_month                                      12   \n",
       "intake_weekday                                Friday   \n",
       "intake_hour                                       10   \n",
       "intake_number                                    2.0   \n",
       "time_in_shelter            1 days 06:14:00.000000000   \n",
       "time_in_shelter_days                        1.259722   \n",
       "is_mix                                           Yes   \n",
       "parent_breed                       Spinone Italiano    \n",
       "breed_unsure                       Spinone Italiano    \n",
       "color_combination                   Yellow and White   \n",
       "animal_has_multicolor_fur                        Yes   \n",
       "outcome_type                         Return to Owner   \n",
       "\n",
       "                                                   2  \\\n",
       "age_upon_intake                              6 years   \n",
       "animal_type                                      Dog   \n",
       "intake_condition                              Normal   \n",
       "intake_type                            Public Assist   \n",
       "sex_upon_intake                        Neutered Male   \n",
       "age_upon_intake_(years)                          6.0   \n",
       "age_upon_intake_age_group                 (5.0, 7.5]   \n",
       "intake_month                                       3   \n",
       "intake_weekday                                Friday   \n",
       "intake_hour                                       14   \n",
       "intake_number                                    3.0   \n",
       "time_in_shelter            1 days 02:44:00.000000000   \n",
       "time_in_shelter_days                        1.113889   \n",
       "is_mix                                           Yes   \n",
       "parent_breed                       Spinone Italiano    \n",
       "breed_unsure                       Spinone Italiano    \n",
       "color_combination                   Yellow and White   \n",
       "animal_has_multicolor_fur                        Yes   \n",
       "outcome_type                         Return to Owner   \n",
       "\n",
       "                                                   3  \\\n",
       "age_upon_intake                             10 years   \n",
       "animal_type                                      Dog   \n",
       "intake_condition                              Normal   \n",
       "intake_type                          Owner Surrender   \n",
       "sex_upon_intake                        Neutered Male   \n",
       "age_upon_intake_(years)                         10.0   \n",
       "age_upon_intake_age_group                (7.5, 10.0]   \n",
       "intake_month                                       4   \n",
       "intake_weekday                             Wednesday   \n",
       "intake_hour                                       15   \n",
       "intake_number                                    1.0   \n",
       "time_in_shelter            4 days 23:17:00.000000000   \n",
       "time_in_shelter_days                        4.970139   \n",
       "is_mix                                            No   \n",
       "parent_breed                               Dachshund   \n",
       "breed_unsure                               Dachshund   \n",
       "color_combination                           Tricolor   \n",
       "animal_has_multicolor_fur                         No   \n",
       "outcome_type                                Transfer   \n",
       "\n",
       "                                                   4  \n",
       "age_upon_intake                             16 years  \n",
       "animal_type                                      Dog  \n",
       "intake_condition                             Injured  \n",
       "intake_type                            Public Assist  \n",
       "sex_upon_intake                        Neutered Male  \n",
       "age_upon_intake_(years)                         16.0  \n",
       "age_upon_intake_age_group               (15.0, 17.5]  \n",
       "intake_month                                      11  \n",
       "intake_weekday                              Saturday  \n",
       "intake_hour                                        9  \n",
       "intake_number                                    1.0  \n",
       "time_in_shelter            0 days 02:52:00.000000000  \n",
       "time_in_shelter_days                        0.119444  \n",
       "is_mix                                            No  \n",
       "parent_breed                       Shetland Sheepdog  \n",
       "breed_unsure                       Shetland Sheepdog  \n",
       "color_combination                    Brown and White  \n",
       "animal_has_multicolor_fur                        Yes  \n",
       "outcome_type                         Return to Owner  "
      ]
     },
     "execution_count": 7,
     "metadata": {},
     "output_type": "execute_result"
    }
   ],
   "source": [
    "df.head().T"
   ]
  },
  {
   "cell_type": "markdown",
   "metadata": {},
   "source": [
    "## Data cleaning"
   ]
  },
  {
   "cell_type": "code",
   "execution_count": 8,
   "metadata": {},
   "outputs": [],
   "source": [
    "df[\"time_in_shelter_days\"] = df[\"time_in_shelter_days\"].apply(lambda x: round(x, 2))"
   ]
  },
  {
   "cell_type": "code",
   "execution_count": 9,
   "metadata": {},
   "outputs": [
    {
     "data": {
      "text/plain": [
       "0        0.59\n",
       "1        1.26\n",
       "2        1.11\n",
       "3        4.97\n",
       "4        0.12\n",
       "         ... \n",
       "79667    0.08\n",
       "79668    0.05\n",
       "79669    0.05\n",
       "79670    1.76\n",
       "79671    0.81\n",
       "Name: time_in_shelter_days, Length: 79672, dtype: float64"
      ]
     },
     "execution_count": 9,
     "metadata": {},
     "output_type": "execute_result"
    }
   ],
   "source": [
    "df[\"time_in_shelter_days\"]"
   ]
  },
  {
   "cell_type": "code",
   "execution_count": 10,
   "metadata": {},
   "outputs": [
    {
     "data": {
      "text/html": [
       "<div>\n",
       "<style scoped>\n",
       "    .dataframe tbody tr th:only-of-type {\n",
       "        vertical-align: middle;\n",
       "    }\n",
       "\n",
       "    .dataframe tbody tr th {\n",
       "        vertical-align: top;\n",
       "    }\n",
       "\n",
       "    .dataframe thead th {\n",
       "        text-align: right;\n",
       "    }\n",
       "</style>\n",
       "<table border=\"1\" class=\"dataframe\">\n",
       "  <thead>\n",
       "    <tr style=\"text-align: right;\">\n",
       "      <th></th>\n",
       "      <th>age_upon_intake</th>\n",
       "      <th>animal_type</th>\n",
       "      <th>intake_condition</th>\n",
       "      <th>intake_type</th>\n",
       "      <th>sex_upon_intake</th>\n",
       "      <th>age_upon_intake_(years)</th>\n",
       "      <th>age_upon_intake_age_group</th>\n",
       "      <th>intake_month</th>\n",
       "      <th>intake_weekday</th>\n",
       "      <th>intake_hour</th>\n",
       "      <th>intake_number</th>\n",
       "      <th>time_in_shelter</th>\n",
       "      <th>time_in_shelter_days</th>\n",
       "      <th>is_mix</th>\n",
       "      <th>parent_breed</th>\n",
       "      <th>breed_unsure</th>\n",
       "      <th>color_combination</th>\n",
       "      <th>animal_has_multicolor_fur</th>\n",
       "      <th>outcome_type</th>\n",
       "    </tr>\n",
       "  </thead>\n",
       "  <tbody>\n",
       "    <tr>\n",
       "      <th>0</th>\n",
       "      <td>10 years</td>\n",
       "      <td>Dog</td>\n",
       "      <td>Normal</td>\n",
       "      <td>Stray</td>\n",
       "      <td>Neutered Male</td>\n",
       "      <td>10.0</td>\n",
       "      <td>(7.5, 10.0]</td>\n",
       "      <td>12</td>\n",
       "      <td>Thursday</td>\n",
       "      <td>14</td>\n",
       "      <td>1.0</td>\n",
       "      <td>0 days 14:07:00.000000000</td>\n",
       "      <td>0.59</td>\n",
       "      <td>Yes</td>\n",
       "      <td>Spinone Italiano</td>\n",
       "      <td>Spinone Italiano</td>\n",
       "      <td>Yellow and White</td>\n",
       "      <td>Yes</td>\n",
       "      <td>Return to Owner</td>\n",
       "    </tr>\n",
       "    <tr>\n",
       "      <th>1</th>\n",
       "      <td>7 years</td>\n",
       "      <td>Dog</td>\n",
       "      <td>Normal</td>\n",
       "      <td>Public Assist</td>\n",
       "      <td>Neutered Male</td>\n",
       "      <td>7.0</td>\n",
       "      <td>(5.0, 7.5]</td>\n",
       "      <td>12</td>\n",
       "      <td>Friday</td>\n",
       "      <td>10</td>\n",
       "      <td>2.0</td>\n",
       "      <td>1 days 06:14:00.000000000</td>\n",
       "      <td>1.26</td>\n",
       "      <td>Yes</td>\n",
       "      <td>Spinone Italiano</td>\n",
       "      <td>Spinone Italiano</td>\n",
       "      <td>Yellow and White</td>\n",
       "      <td>Yes</td>\n",
       "      <td>Return to Owner</td>\n",
       "    </tr>\n",
       "    <tr>\n",
       "      <th>2</th>\n",
       "      <td>6 years</td>\n",
       "      <td>Dog</td>\n",
       "      <td>Normal</td>\n",
       "      <td>Public Assist</td>\n",
       "      <td>Neutered Male</td>\n",
       "      <td>6.0</td>\n",
       "      <td>(5.0, 7.5]</td>\n",
       "      <td>3</td>\n",
       "      <td>Friday</td>\n",
       "      <td>14</td>\n",
       "      <td>3.0</td>\n",
       "      <td>1 days 02:44:00.000000000</td>\n",
       "      <td>1.11</td>\n",
       "      <td>Yes</td>\n",
       "      <td>Spinone Italiano</td>\n",
       "      <td>Spinone Italiano</td>\n",
       "      <td>Yellow and White</td>\n",
       "      <td>Yes</td>\n",
       "      <td>Return to Owner</td>\n",
       "    </tr>\n",
       "    <tr>\n",
       "      <th>3</th>\n",
       "      <td>10 years</td>\n",
       "      <td>Dog</td>\n",
       "      <td>Normal</td>\n",
       "      <td>Owner Surrender</td>\n",
       "      <td>Neutered Male</td>\n",
       "      <td>10.0</td>\n",
       "      <td>(7.5, 10.0]</td>\n",
       "      <td>4</td>\n",
       "      <td>Wednesday</td>\n",
       "      <td>15</td>\n",
       "      <td>1.0</td>\n",
       "      <td>4 days 23:17:00.000000000</td>\n",
       "      <td>4.97</td>\n",
       "      <td>No</td>\n",
       "      <td>Dachshund</td>\n",
       "      <td>Dachshund</td>\n",
       "      <td>Tricolor</td>\n",
       "      <td>No</td>\n",
       "      <td>Transfer</td>\n",
       "    </tr>\n",
       "    <tr>\n",
       "      <th>4</th>\n",
       "      <td>16 years</td>\n",
       "      <td>Dog</td>\n",
       "      <td>Injured</td>\n",
       "      <td>Public Assist</td>\n",
       "      <td>Neutered Male</td>\n",
       "      <td>16.0</td>\n",
       "      <td>(15.0, 17.5]</td>\n",
       "      <td>11</td>\n",
       "      <td>Saturday</td>\n",
       "      <td>9</td>\n",
       "      <td>1.0</td>\n",
       "      <td>0 days 02:52:00.000000000</td>\n",
       "      <td>0.12</td>\n",
       "      <td>No</td>\n",
       "      <td>Shetland Sheepdog</td>\n",
       "      <td>Shetland Sheepdog</td>\n",
       "      <td>Brown and White</td>\n",
       "      <td>Yes</td>\n",
       "      <td>Return to Owner</td>\n",
       "    </tr>\n",
       "  </tbody>\n",
       "</table>\n",
       "</div>"
      ],
      "text/plain": [
       "  age_upon_intake animal_type intake_condition      intake_type  \\\n",
       "0        10 years         Dog           Normal            Stray   \n",
       "1         7 years         Dog           Normal    Public Assist   \n",
       "2         6 years         Dog           Normal    Public Assist   \n",
       "3        10 years         Dog           Normal  Owner Surrender   \n",
       "4        16 years         Dog          Injured    Public Assist   \n",
       "\n",
       "  sex_upon_intake  age_upon_intake_(years) age_upon_intake_age_group  \\\n",
       "0   Neutered Male                     10.0               (7.5, 10.0]   \n",
       "1   Neutered Male                      7.0                (5.0, 7.5]   \n",
       "2   Neutered Male                      6.0                (5.0, 7.5]   \n",
       "3   Neutered Male                     10.0               (7.5, 10.0]   \n",
       "4   Neutered Male                     16.0              (15.0, 17.5]   \n",
       "\n",
       "   intake_month intake_weekday  intake_hour  intake_number  \\\n",
       "0            12       Thursday           14            1.0   \n",
       "1            12         Friday           10            2.0   \n",
       "2             3         Friday           14            3.0   \n",
       "3             4      Wednesday           15            1.0   \n",
       "4            11       Saturday            9            1.0   \n",
       "\n",
       "             time_in_shelter  time_in_shelter_days is_mix       parent_breed  \\\n",
       "0  0 days 14:07:00.000000000                  0.59    Yes  Spinone Italiano    \n",
       "1  1 days 06:14:00.000000000                  1.26    Yes  Spinone Italiano    \n",
       "2  1 days 02:44:00.000000000                  1.11    Yes  Spinone Italiano    \n",
       "3  4 days 23:17:00.000000000                  4.97     No          Dachshund   \n",
       "4  0 days 02:52:00.000000000                  0.12     No  Shetland Sheepdog   \n",
       "\n",
       "        breed_unsure color_combination animal_has_multicolor_fur  \\\n",
       "0  Spinone Italiano   Yellow and White                       Yes   \n",
       "1  Spinone Italiano   Yellow and White                       Yes   \n",
       "2  Spinone Italiano   Yellow and White                       Yes   \n",
       "3          Dachshund          Tricolor                        No   \n",
       "4  Shetland Sheepdog   Brown and White                       Yes   \n",
       "\n",
       "      outcome_type  \n",
       "0  Return to Owner  \n",
       "1  Return to Owner  \n",
       "2  Return to Owner  \n",
       "3         Transfer  \n",
       "4  Return to Owner  "
      ]
     },
     "execution_count": 10,
     "metadata": {},
     "output_type": "execute_result"
    }
   ],
   "source": [
    "df.head()"
   ]
  },
  {
   "cell_type": "code",
   "execution_count": 11,
   "metadata": {},
   "outputs": [
    {
     "data": {
      "text/plain": [
       "Index(['age_upon_intake', 'animal_type', 'intake_condition', 'intake_type',\n",
       "       'sex_upon_intake', 'age_upon_intake_(years)',\n",
       "       'age_upon_intake_age_group', 'intake_month', 'intake_weekday',\n",
       "       'intake_hour', 'intake_number', 'time_in_shelter',\n",
       "       'time_in_shelter_days', 'is_mix', 'parent_breed', 'breed_unsure',\n",
       "       'color_combination', 'animal_has_multicolor_fur', 'outcome_type'],\n",
       "      dtype='object')"
      ]
     },
     "execution_count": 11,
     "metadata": {},
     "output_type": "execute_result"
    }
   ],
   "source": [
    "df.columns"
   ]
  },
  {
   "cell_type": "code",
   "execution_count": 12,
   "metadata": {},
   "outputs": [],
   "source": [
    "df.drop(['age_upon_intake', 'breed_unsure', 'time_in_shelter'], axis=1, inplace=True)"
   ]
  },
  {
   "cell_type": "code",
   "execution_count": 13,
   "metadata": {},
   "outputs": [
    {
     "data": {
      "text/plain": [
       "intake_number\n",
       "1.0     71993\n",
       "2.0      6052\n",
       "3.0      1152\n",
       "4.0       302\n",
       "5.0       101\n",
       "6.0        39\n",
       "7.0        15\n",
       "8.0         7\n",
       "10.0        3\n",
       "11.0        3\n",
       "9.0         3\n",
       "12.0        1\n",
       "13.0        1\n",
       "Name: count, dtype: int64"
      ]
     },
     "execution_count": 13,
     "metadata": {},
     "output_type": "execute_result"
    }
   ],
   "source": [
    "df[\"intake_number\"].value_counts()"
   ]
  },
  {
   "cell_type": "code",
   "execution_count": 14,
   "metadata": {},
   "outputs": [
    {
     "data": {
      "text/html": [
       "<div>\n",
       "<style scoped>\n",
       "    .dataframe tbody tr th:only-of-type {\n",
       "        vertical-align: middle;\n",
       "    }\n",
       "\n",
       "    .dataframe tbody tr th {\n",
       "        vertical-align: top;\n",
       "    }\n",
       "\n",
       "    .dataframe thead th {\n",
       "        text-align: right;\n",
       "    }\n",
       "</style>\n",
       "<table border=\"1\" class=\"dataframe\">\n",
       "  <thead>\n",
       "    <tr style=\"text-align: right;\">\n",
       "      <th></th>\n",
       "      <th>animal_type</th>\n",
       "      <th>intake_condition</th>\n",
       "      <th>intake_type</th>\n",
       "      <th>sex_upon_intake</th>\n",
       "      <th>age_upon_intake_(years)</th>\n",
       "      <th>age_upon_intake_age_group</th>\n",
       "      <th>intake_month</th>\n",
       "      <th>intake_weekday</th>\n",
       "      <th>intake_hour</th>\n",
       "      <th>intake_number</th>\n",
       "      <th>time_in_shelter_days</th>\n",
       "      <th>is_mix</th>\n",
       "      <th>parent_breed</th>\n",
       "      <th>color_combination</th>\n",
       "      <th>animal_has_multicolor_fur</th>\n",
       "      <th>outcome_type</th>\n",
       "    </tr>\n",
       "  </thead>\n",
       "  <tbody>\n",
       "    <tr>\n",
       "      <th>0</th>\n",
       "      <td>Dog</td>\n",
       "      <td>Normal</td>\n",
       "      <td>Stray</td>\n",
       "      <td>Neutered Male</td>\n",
       "      <td>10.000000</td>\n",
       "      <td>(7.5, 10.0]</td>\n",
       "      <td>12</td>\n",
       "      <td>Thursday</td>\n",
       "      <td>14</td>\n",
       "      <td>1.0</td>\n",
       "      <td>0.59</td>\n",
       "      <td>Yes</td>\n",
       "      <td>Spinone Italiano</td>\n",
       "      <td>Yellow and White</td>\n",
       "      <td>Yes</td>\n",
       "      <td>Return to Owner</td>\n",
       "    </tr>\n",
       "    <tr>\n",
       "      <th>1</th>\n",
       "      <td>Dog</td>\n",
       "      <td>Normal</td>\n",
       "      <td>Public Assist</td>\n",
       "      <td>Neutered Male</td>\n",
       "      <td>7.000000</td>\n",
       "      <td>(5.0, 7.5]</td>\n",
       "      <td>12</td>\n",
       "      <td>Friday</td>\n",
       "      <td>10</td>\n",
       "      <td>2.0</td>\n",
       "      <td>1.26</td>\n",
       "      <td>Yes</td>\n",
       "      <td>Spinone Italiano</td>\n",
       "      <td>Yellow and White</td>\n",
       "      <td>Yes</td>\n",
       "      <td>Return to Owner</td>\n",
       "    </tr>\n",
       "    <tr>\n",
       "      <th>2</th>\n",
       "      <td>Dog</td>\n",
       "      <td>Normal</td>\n",
       "      <td>Public Assist</td>\n",
       "      <td>Neutered Male</td>\n",
       "      <td>6.000000</td>\n",
       "      <td>(5.0, 7.5]</td>\n",
       "      <td>3</td>\n",
       "      <td>Friday</td>\n",
       "      <td>14</td>\n",
       "      <td>3.0</td>\n",
       "      <td>1.11</td>\n",
       "      <td>Yes</td>\n",
       "      <td>Spinone Italiano</td>\n",
       "      <td>Yellow and White</td>\n",
       "      <td>Yes</td>\n",
       "      <td>Return to Owner</td>\n",
       "    </tr>\n",
       "    <tr>\n",
       "      <th>3</th>\n",
       "      <td>Dog</td>\n",
       "      <td>Normal</td>\n",
       "      <td>Owner Surrender</td>\n",
       "      <td>Neutered Male</td>\n",
       "      <td>10.000000</td>\n",
       "      <td>(7.5, 10.0]</td>\n",
       "      <td>4</td>\n",
       "      <td>Wednesday</td>\n",
       "      <td>15</td>\n",
       "      <td>1.0</td>\n",
       "      <td>4.97</td>\n",
       "      <td>No</td>\n",
       "      <td>Dachshund</td>\n",
       "      <td>Tricolor</td>\n",
       "      <td>No</td>\n",
       "      <td>Transfer</td>\n",
       "    </tr>\n",
       "    <tr>\n",
       "      <th>4</th>\n",
       "      <td>Dog</td>\n",
       "      <td>Injured</td>\n",
       "      <td>Public Assist</td>\n",
       "      <td>Neutered Male</td>\n",
       "      <td>16.000000</td>\n",
       "      <td>(15.0, 17.5]</td>\n",
       "      <td>11</td>\n",
       "      <td>Saturday</td>\n",
       "      <td>9</td>\n",
       "      <td>1.0</td>\n",
       "      <td>0.12</td>\n",
       "      <td>No</td>\n",
       "      <td>Shetland Sheepdog</td>\n",
       "      <td>Brown and White</td>\n",
       "      <td>Yes</td>\n",
       "      <td>Return to Owner</td>\n",
       "    </tr>\n",
       "    <tr>\n",
       "      <th>...</th>\n",
       "      <td>...</td>\n",
       "      <td>...</td>\n",
       "      <td>...</td>\n",
       "      <td>...</td>\n",
       "      <td>...</td>\n",
       "      <td>...</td>\n",
       "      <td>...</td>\n",
       "      <td>...</td>\n",
       "      <td>...</td>\n",
       "      <td>...</td>\n",
       "      <td>...</td>\n",
       "      <td>...</td>\n",
       "      <td>...</td>\n",
       "      <td>...</td>\n",
       "      <td>...</td>\n",
       "      <td>...</td>\n",
       "    </tr>\n",
       "    <tr>\n",
       "      <th>79667</th>\n",
       "      <td>Cat</td>\n",
       "      <td>Normal</td>\n",
       "      <td>Stray</td>\n",
       "      <td>Unknown</td>\n",
       "      <td>0.038356</td>\n",
       "      <td>(-0.025, 2.5]</td>\n",
       "      <td>3</td>\n",
       "      <td>Thursday</td>\n",
       "      <td>16</td>\n",
       "      <td>1.0</td>\n",
       "      <td>0.08</td>\n",
       "      <td>Yes</td>\n",
       "      <td>Domestic Shorthair</td>\n",
       "      <td>Tortie</td>\n",
       "      <td>No</td>\n",
       "      <td>Transfer</td>\n",
       "    </tr>\n",
       "    <tr>\n",
       "      <th>79668</th>\n",
       "      <td>Other</td>\n",
       "      <td>Normal</td>\n",
       "      <td>Wildlife</td>\n",
       "      <td>Unknown</td>\n",
       "      <td>2.000000</td>\n",
       "      <td>(-0.025, 2.5]</td>\n",
       "      <td>3</td>\n",
       "      <td>Thursday</td>\n",
       "      <td>17</td>\n",
       "      <td>1.0</td>\n",
       "      <td>0.05</td>\n",
       "      <td>Yes</td>\n",
       "      <td>Bat</td>\n",
       "      <td>Brown</td>\n",
       "      <td>No</td>\n",
       "      <td>Euthanasia</td>\n",
       "    </tr>\n",
       "    <tr>\n",
       "      <th>79669</th>\n",
       "      <td>Other</td>\n",
       "      <td>Normal</td>\n",
       "      <td>Wildlife</td>\n",
       "      <td>Unknown</td>\n",
       "      <td>1.000000</td>\n",
       "      <td>(-0.025, 2.5]</td>\n",
       "      <td>3</td>\n",
       "      <td>Thursday</td>\n",
       "      <td>17</td>\n",
       "      <td>1.0</td>\n",
       "      <td>0.05</td>\n",
       "      <td>Yes</td>\n",
       "      <td>Bat</td>\n",
       "      <td>Brown</td>\n",
       "      <td>No</td>\n",
       "      <td>Euthanasia</td>\n",
       "    </tr>\n",
       "    <tr>\n",
       "      <th>79670</th>\n",
       "      <td>Dog</td>\n",
       "      <td>Normal</td>\n",
       "      <td>Stray</td>\n",
       "      <td>Intact Male</td>\n",
       "      <td>0.410959</td>\n",
       "      <td>(-0.025, 2.5]</td>\n",
       "      <td>3</td>\n",
       "      <td>Thursday</td>\n",
       "      <td>18</td>\n",
       "      <td>1.0</td>\n",
       "      <td>1.76</td>\n",
       "      <td>Yes</td>\n",
       "      <td>Labrador Retriever</td>\n",
       "      <td>Black and White</td>\n",
       "      <td>Yes</td>\n",
       "      <td>Return to Owner</td>\n",
       "    </tr>\n",
       "    <tr>\n",
       "      <th>79671</th>\n",
       "      <td>Dog</td>\n",
       "      <td>Aged</td>\n",
       "      <td>Stray</td>\n",
       "      <td>Spayed Female</td>\n",
       "      <td>10.000000</td>\n",
       "      <td>(7.5, 10.0]</td>\n",
       "      <td>3</td>\n",
       "      <td>Thursday</td>\n",
       "      <td>18</td>\n",
       "      <td>1.0</td>\n",
       "      <td>0.81</td>\n",
       "      <td>Yes</td>\n",
       "      <td>Boxer</td>\n",
       "      <td>Brown Brindle</td>\n",
       "      <td>No</td>\n",
       "      <td>Euthanasia</td>\n",
       "    </tr>\n",
       "  </tbody>\n",
       "</table>\n",
       "<p>79672 rows × 16 columns</p>\n",
       "</div>"
      ],
      "text/plain": [
       "      animal_type intake_condition      intake_type sex_upon_intake  \\\n",
       "0             Dog           Normal            Stray   Neutered Male   \n",
       "1             Dog           Normal    Public Assist   Neutered Male   \n",
       "2             Dog           Normal    Public Assist   Neutered Male   \n",
       "3             Dog           Normal  Owner Surrender   Neutered Male   \n",
       "4             Dog          Injured    Public Assist   Neutered Male   \n",
       "...           ...              ...              ...             ...   \n",
       "79667         Cat           Normal            Stray         Unknown   \n",
       "79668       Other           Normal         Wildlife         Unknown   \n",
       "79669       Other           Normal         Wildlife         Unknown   \n",
       "79670         Dog           Normal            Stray     Intact Male   \n",
       "79671         Dog             Aged            Stray   Spayed Female   \n",
       "\n",
       "       age_upon_intake_(years) age_upon_intake_age_group  intake_month  \\\n",
       "0                    10.000000               (7.5, 10.0]            12   \n",
       "1                     7.000000                (5.0, 7.5]            12   \n",
       "2                     6.000000                (5.0, 7.5]             3   \n",
       "3                    10.000000               (7.5, 10.0]             4   \n",
       "4                    16.000000              (15.0, 17.5]            11   \n",
       "...                        ...                       ...           ...   \n",
       "79667                 0.038356             (-0.025, 2.5]             3   \n",
       "79668                 2.000000             (-0.025, 2.5]             3   \n",
       "79669                 1.000000             (-0.025, 2.5]             3   \n",
       "79670                 0.410959             (-0.025, 2.5]             3   \n",
       "79671                10.000000               (7.5, 10.0]             3   \n",
       "\n",
       "      intake_weekday  intake_hour  intake_number  time_in_shelter_days is_mix  \\\n",
       "0           Thursday           14            1.0                  0.59    Yes   \n",
       "1             Friday           10            2.0                  1.26    Yes   \n",
       "2             Friday           14            3.0                  1.11    Yes   \n",
       "3          Wednesday           15            1.0                  4.97     No   \n",
       "4           Saturday            9            1.0                  0.12     No   \n",
       "...              ...          ...            ...                   ...    ...   \n",
       "79667       Thursday           16            1.0                  0.08    Yes   \n",
       "79668       Thursday           17            1.0                  0.05    Yes   \n",
       "79669       Thursday           17            1.0                  0.05    Yes   \n",
       "79670       Thursday           18            1.0                  1.76    Yes   \n",
       "79671       Thursday           18            1.0                  0.81    Yes   \n",
       "\n",
       "              parent_breed color_combination animal_has_multicolor_fur  \\\n",
       "0        Spinone Italiano   Yellow and White                       Yes   \n",
       "1        Spinone Italiano   Yellow and White                       Yes   \n",
       "2        Spinone Italiano   Yellow and White                       Yes   \n",
       "3                Dachshund          Tricolor                        No   \n",
       "4        Shetland Sheepdog   Brown and White                       Yes   \n",
       "...                    ...               ...                       ...   \n",
       "79667  Domestic Shorthair             Tortie                        No   \n",
       "79668                 Bat              Brown                        No   \n",
       "79669                 Bat              Brown                        No   \n",
       "79670  Labrador Retriever    Black and White                       Yes   \n",
       "79671               Boxer      Brown Brindle                        No   \n",
       "\n",
       "          outcome_type  \n",
       "0      Return to Owner  \n",
       "1      Return to Owner  \n",
       "2      Return to Owner  \n",
       "3             Transfer  \n",
       "4      Return to Owner  \n",
       "...                ...  \n",
       "79667         Transfer  \n",
       "79668       Euthanasia  \n",
       "79669       Euthanasia  \n",
       "79670  Return to Owner  \n",
       "79671       Euthanasia  \n",
       "\n",
       "[79672 rows x 16 columns]"
      ]
     },
     "execution_count": 14,
     "metadata": {},
     "output_type": "execute_result"
    }
   ],
   "source": [
    "df"
   ]
  },
  {
   "cell_type": "code",
   "execution_count": 15,
   "metadata": {},
   "outputs": [],
   "source": [
    "def get_encodings(df_variable):\n",
    "    enc = {}\n",
    "    for i, count_ in enumerate(df_variable.unique()):\n",
    "        enc[i] = count_\n",
    "    return enc"
   ]
  },
  {
   "cell_type": "code",
   "execution_count": 16,
   "metadata": {},
   "outputs": [
    {
     "data": {
      "text/plain": [
       "{0: 'Dog', 1: 'Cat', 2: 'Other', 3: 'Bird'}"
      ]
     },
     "execution_count": 16,
     "metadata": {},
     "output_type": "execute_result"
    }
   ],
   "source": [
    "get_encodings(df['animal_type'])"
   ]
  },
  {
   "cell_type": "code",
   "execution_count": 17,
   "metadata": {},
   "outputs": [
    {
     "data": {
      "text/plain": [
       "{0: 'Normal',\n",
       " 1: 'Injured',\n",
       " 2: 'Aged',\n",
       " 3: 'Sick',\n",
       " 4: 'Other',\n",
       " 5: 'Feral',\n",
       " 6: 'Pregnant',\n",
       " 7: 'Nursing'}"
      ]
     },
     "execution_count": 17,
     "metadata": {},
     "output_type": "execute_result"
    }
   ],
   "source": [
    "get_encodings(df['intake_condition'])"
   ]
  },
  {
   "cell_type": "code",
   "execution_count": 18,
   "metadata": {},
   "outputs": [
    {
     "data": {
      "text/plain": [
       "{0: 'Neutered Male',\n",
       " 1: 'Spayed Female',\n",
       " 2: 'Intact Female',\n",
       " 3: 'Intact Male',\n",
       " 4: 'Unknown'}"
      ]
     },
     "execution_count": 18,
     "metadata": {},
     "output_type": "execute_result"
    }
   ],
   "source": [
    "get_encodings(df['sex_upon_intake'])"
   ]
  },
  {
   "cell_type": "code",
   "execution_count": 19,
   "metadata": {},
   "outputs": [
    {
     "data": {
      "text/plain": [
       "{0: 'Thursday',\n",
       " 1: 'Friday',\n",
       " 2: 'Wednesday',\n",
       " 3: 'Saturday',\n",
       " 4: 'Monday',\n",
       " 5: 'Tuesday',\n",
       " 6: 'Sunday'}"
      ]
     },
     "execution_count": 19,
     "metadata": {},
     "output_type": "execute_result"
    }
   ],
   "source": [
    "get_encodings(df['intake_weekday'])"
   ]
  },
  {
   "cell_type": "code",
   "execution_count": 20,
   "metadata": {},
   "outputs": [
    {
     "data": {
      "text/plain": [
       "{0: 'Yes', 1: 'No'}"
      ]
     },
     "execution_count": 20,
     "metadata": {},
     "output_type": "execute_result"
    }
   ],
   "source": [
    "get_encodings(df['is_mix'])"
   ]
  },
  {
   "cell_type": "code",
   "execution_count": 21,
   "metadata": {},
   "outputs": [
    {
     "data": {
      "text/plain": [
       "529"
      ]
     },
     "execution_count": 21,
     "metadata": {},
     "output_type": "execute_result"
    }
   ],
   "source": [
    "df['color_combination'].nunique()"
   ]
  },
  {
   "cell_type": "code",
   "execution_count": 22,
   "metadata": {},
   "outputs": [
    {
     "data": {
      "text/plain": [
       "color_combination\n",
       "Black and White          8270\n",
       "Black                    6673\n",
       "Brown Tabby              4471\n",
       "Brown                    3598\n",
       "White                    2835\n",
       "Brown and White          2516\n",
       "Tan and White            2462\n",
       "Brown Tabby and White    2351\n",
       "Orange Tabby             2182\n",
       "White and Black          2172\n",
       "Name: count, dtype: int64"
      ]
     },
     "execution_count": 22,
     "metadata": {},
     "output_type": "execute_result"
    }
   ],
   "source": [
    "df['color_combination'].value_counts().nlargest(10)"
   ]
  },
  {
   "cell_type": "code",
   "execution_count": 23,
   "metadata": {},
   "outputs": [
    {
     "data": {
      "text/plain": [
       "{0: 'Yes', 1: 'No'}"
      ]
     },
     "execution_count": 23,
     "metadata": {},
     "output_type": "execute_result"
    }
   ],
   "source": [
    "get_encodings(df['animal_has_multicolor_fur'])"
   ]
  },
  {
   "cell_type": "code",
   "execution_count": 24,
   "metadata": {},
   "outputs": [
    {
     "data": {
      "text/plain": [
       "parent_breed\n",
       "Domestic Shorthair        23423\n",
       "Pit Bull                   6256\n",
       "Chihuahua Shorthair        4831\n",
       "Labrador Retriever         4789\n",
       "Domestic Medium Hair       2326\n",
       "German Shepherd            1950\n",
       "Bat                        1381\n",
       "Domestic Longhair          1248\n",
       "Australian Cattle Dog      1099\n",
       "Siamese                     996\n",
       "Name: count, dtype: int64"
      ]
     },
     "execution_count": 24,
     "metadata": {},
     "output_type": "execute_result"
    }
   ],
   "source": [
    "df['parent_breed'].value_counts().nlargest(10)"
   ]
  },
  {
   "cell_type": "code",
   "execution_count": 25,
   "metadata": {},
   "outputs": [
    {
     "data": {
      "text/plain": [
       "animal_type\n",
       "Dog      45366\n",
       "Cat      29539\n",
       "Other     4428\n",
       "Bird       339\n",
       "Name: count, dtype: int64"
      ]
     },
     "execution_count": 25,
     "metadata": {},
     "output_type": "execute_result"
    }
   ],
   "source": [
    "df['animal_type'].value_counts()"
   ]
  },
  {
   "cell_type": "code",
   "execution_count": 26,
   "metadata": {},
   "outputs": [],
   "source": [
    "def age_grp_refine(age_group):\n",
    "    return \"_to_\".join(age_group.replace(\"(\",\"\").replace(\"]\",\"\").replace(\"-\",\"\").split(\", \"))"
   ]
  },
  {
   "cell_type": "code",
   "execution_count": 27,
   "metadata": {},
   "outputs": [
    {
     "data": {
      "text/plain": [
       "'5.0_to_7.5'"
      ]
     },
     "execution_count": 27,
     "metadata": {},
     "output_type": "execute_result"
    }
   ],
   "source": [
    "age_grp_refine(df[\"age_upon_intake_age_group\"][2])"
   ]
  },
  {
   "cell_type": "code",
   "execution_count": 28,
   "metadata": {},
   "outputs": [],
   "source": [
    "df[\"age_upon_intake_age_group\"] = df[\"age_upon_intake_age_group\"].apply(age_grp_refine)"
   ]
  },
  {
   "cell_type": "code",
   "execution_count": 29,
   "metadata": {},
   "outputs": [
    {
     "data": {
      "text/plain": [
       "age_upon_intake_age_group\n",
       "0.025_to_2.5    59593\n",
       "2.5_to_5.0      11013\n",
       "7.5_to_10.0      3539\n",
       "5.0_to_7.5       3422\n",
       "10.0_to_12.5     1040\n",
       "12.5_to_15.0      842\n",
       "15.0_to_17.5      165\n",
       "17.5_to_20.0       53\n",
       "20.0_to_22.5        4\n",
       "22.5_to_25.0        1\n",
       "Name: count, dtype: int64"
      ]
     },
     "execution_count": 29,
     "metadata": {},
     "output_type": "execute_result"
    }
   ],
   "source": [
    "df[\"age_upon_intake_age_group\"].value_counts()"
   ]
  },
  {
   "cell_type": "code",
   "execution_count": 30,
   "metadata": {},
   "outputs": [],
   "source": [
    "df.drop([\"parent_breed\"], axis=1, inplace=True)"
   ]
  },
  {
   "cell_type": "code",
   "execution_count": 31,
   "metadata": {},
   "outputs": [
    {
     "data": {
      "text/plain": [
       "23"
      ]
     },
     "execution_count": 31,
     "metadata": {},
     "output_type": "execute_result"
    }
   ],
   "source": [
    "df[\"intake_hour\"].max()"
   ]
  },
  {
   "cell_type": "code",
   "execution_count": 32,
   "metadata": {},
   "outputs": [],
   "source": [
    "def time_of_day_of_intake(time):\n",
    "    if 0 <= time < 9:\n",
    "        return \"Early morning\"\n",
    "    elif 9 <= time < 12:\n",
    "        return \"Late morning\"\n",
    "    elif 12 <= time < 17:\n",
    "        return \"Afternoon\"\n",
    "    elif 17 <= time < 20:\n",
    "        return \"Evening\"\n",
    "    else:\n",
    "        return \"Night-time\""
   ]
  },
  {
   "cell_type": "code",
   "execution_count": 33,
   "metadata": {},
   "outputs": [],
   "source": [
    "df[\"time_of_day_of_intake\"] = df[\"intake_hour\"].apply(time_of_day_of_intake)"
   ]
  },
  {
   "cell_type": "code",
   "execution_count": 34,
   "metadata": {},
   "outputs": [
    {
     "data": {
      "text/plain": [
       "529"
      ]
     },
     "execution_count": 34,
     "metadata": {},
     "output_type": "execute_result"
    }
   ],
   "source": [
    "df[\"color_combination\"].nunique()"
   ]
  },
  {
   "cell_type": "code",
   "execution_count": 35,
   "metadata": {},
   "outputs": [
    {
     "data": {
      "text/plain": [
       "color_combination\n",
       "Black and White                    8270\n",
       "Black                              6673\n",
       "Brown Tabby                        4471\n",
       "Brown                              3598\n",
       "White                              2835\n",
       "                                   ... \n",
       "Tan and Brown Brindle                 1\n",
       "Brown Brindle and Brown Brindle       1\n",
       "Brown and Blue                        1\n",
       "Yellow and Yellow                     1\n",
       "Red Merle and Red Merle               1\n",
       "Name: count, Length: 529, dtype: int64"
      ]
     },
     "execution_count": 35,
     "metadata": {},
     "output_type": "execute_result"
    }
   ],
   "source": [
    "df[\"color_combination\"].value_counts()"
   ]
  },
  {
   "cell_type": "code",
   "execution_count": 36,
   "metadata": {},
   "outputs": [],
   "source": [
    "df.drop([\"color_combination\"], axis=1, inplace=True)"
   ]
  },
  {
   "cell_type": "code",
   "execution_count": 37,
   "metadata": {},
   "outputs": [
    {
     "data": {
      "text/html": [
       "<div>\n",
       "<style scoped>\n",
       "    .dataframe tbody tr th:only-of-type {\n",
       "        vertical-align: middle;\n",
       "    }\n",
       "\n",
       "    .dataframe tbody tr th {\n",
       "        vertical-align: top;\n",
       "    }\n",
       "\n",
       "    .dataframe thead th {\n",
       "        text-align: right;\n",
       "    }\n",
       "</style>\n",
       "<table border=\"1\" class=\"dataframe\">\n",
       "  <thead>\n",
       "    <tr style=\"text-align: right;\">\n",
       "      <th></th>\n",
       "      <th>animal_type</th>\n",
       "      <th>intake_condition</th>\n",
       "      <th>intake_type</th>\n",
       "      <th>sex_upon_intake</th>\n",
       "      <th>age_upon_intake_(years)</th>\n",
       "      <th>age_upon_intake_age_group</th>\n",
       "      <th>intake_month</th>\n",
       "      <th>intake_weekday</th>\n",
       "      <th>intake_hour</th>\n",
       "      <th>intake_number</th>\n",
       "      <th>time_in_shelter_days</th>\n",
       "      <th>is_mix</th>\n",
       "      <th>animal_has_multicolor_fur</th>\n",
       "      <th>outcome_type</th>\n",
       "      <th>time_of_day_of_intake</th>\n",
       "    </tr>\n",
       "  </thead>\n",
       "  <tbody>\n",
       "    <tr>\n",
       "      <th>0</th>\n",
       "      <td>Dog</td>\n",
       "      <td>Normal</td>\n",
       "      <td>Stray</td>\n",
       "      <td>Neutered Male</td>\n",
       "      <td>10.000000</td>\n",
       "      <td>7.5_to_10.0</td>\n",
       "      <td>12</td>\n",
       "      <td>Thursday</td>\n",
       "      <td>14</td>\n",
       "      <td>1.0</td>\n",
       "      <td>0.59</td>\n",
       "      <td>Yes</td>\n",
       "      <td>Yes</td>\n",
       "      <td>Return to Owner</td>\n",
       "      <td>Afternoon</td>\n",
       "    </tr>\n",
       "    <tr>\n",
       "      <th>1</th>\n",
       "      <td>Dog</td>\n",
       "      <td>Normal</td>\n",
       "      <td>Public Assist</td>\n",
       "      <td>Neutered Male</td>\n",
       "      <td>7.000000</td>\n",
       "      <td>5.0_to_7.5</td>\n",
       "      <td>12</td>\n",
       "      <td>Friday</td>\n",
       "      <td>10</td>\n",
       "      <td>2.0</td>\n",
       "      <td>1.26</td>\n",
       "      <td>Yes</td>\n",
       "      <td>Yes</td>\n",
       "      <td>Return to Owner</td>\n",
       "      <td>Late morning</td>\n",
       "    </tr>\n",
       "    <tr>\n",
       "      <th>2</th>\n",
       "      <td>Dog</td>\n",
       "      <td>Normal</td>\n",
       "      <td>Public Assist</td>\n",
       "      <td>Neutered Male</td>\n",
       "      <td>6.000000</td>\n",
       "      <td>5.0_to_7.5</td>\n",
       "      <td>3</td>\n",
       "      <td>Friday</td>\n",
       "      <td>14</td>\n",
       "      <td>3.0</td>\n",
       "      <td>1.11</td>\n",
       "      <td>Yes</td>\n",
       "      <td>Yes</td>\n",
       "      <td>Return to Owner</td>\n",
       "      <td>Afternoon</td>\n",
       "    </tr>\n",
       "    <tr>\n",
       "      <th>3</th>\n",
       "      <td>Dog</td>\n",
       "      <td>Normal</td>\n",
       "      <td>Owner Surrender</td>\n",
       "      <td>Neutered Male</td>\n",
       "      <td>10.000000</td>\n",
       "      <td>7.5_to_10.0</td>\n",
       "      <td>4</td>\n",
       "      <td>Wednesday</td>\n",
       "      <td>15</td>\n",
       "      <td>1.0</td>\n",
       "      <td>4.97</td>\n",
       "      <td>No</td>\n",
       "      <td>No</td>\n",
       "      <td>Transfer</td>\n",
       "      <td>Afternoon</td>\n",
       "    </tr>\n",
       "    <tr>\n",
       "      <th>4</th>\n",
       "      <td>Dog</td>\n",
       "      <td>Injured</td>\n",
       "      <td>Public Assist</td>\n",
       "      <td>Neutered Male</td>\n",
       "      <td>16.000000</td>\n",
       "      <td>15.0_to_17.5</td>\n",
       "      <td>11</td>\n",
       "      <td>Saturday</td>\n",
       "      <td>9</td>\n",
       "      <td>1.0</td>\n",
       "      <td>0.12</td>\n",
       "      <td>No</td>\n",
       "      <td>Yes</td>\n",
       "      <td>Return to Owner</td>\n",
       "      <td>Late morning</td>\n",
       "    </tr>\n",
       "    <tr>\n",
       "      <th>...</th>\n",
       "      <td>...</td>\n",
       "      <td>...</td>\n",
       "      <td>...</td>\n",
       "      <td>...</td>\n",
       "      <td>...</td>\n",
       "      <td>...</td>\n",
       "      <td>...</td>\n",
       "      <td>...</td>\n",
       "      <td>...</td>\n",
       "      <td>...</td>\n",
       "      <td>...</td>\n",
       "      <td>...</td>\n",
       "      <td>...</td>\n",
       "      <td>...</td>\n",
       "      <td>...</td>\n",
       "    </tr>\n",
       "    <tr>\n",
       "      <th>79667</th>\n",
       "      <td>Cat</td>\n",
       "      <td>Normal</td>\n",
       "      <td>Stray</td>\n",
       "      <td>Unknown</td>\n",
       "      <td>0.038356</td>\n",
       "      <td>0.025_to_2.5</td>\n",
       "      <td>3</td>\n",
       "      <td>Thursday</td>\n",
       "      <td>16</td>\n",
       "      <td>1.0</td>\n",
       "      <td>0.08</td>\n",
       "      <td>Yes</td>\n",
       "      <td>No</td>\n",
       "      <td>Transfer</td>\n",
       "      <td>Afternoon</td>\n",
       "    </tr>\n",
       "    <tr>\n",
       "      <th>79668</th>\n",
       "      <td>Other</td>\n",
       "      <td>Normal</td>\n",
       "      <td>Wildlife</td>\n",
       "      <td>Unknown</td>\n",
       "      <td>2.000000</td>\n",
       "      <td>0.025_to_2.5</td>\n",
       "      <td>3</td>\n",
       "      <td>Thursday</td>\n",
       "      <td>17</td>\n",
       "      <td>1.0</td>\n",
       "      <td>0.05</td>\n",
       "      <td>Yes</td>\n",
       "      <td>No</td>\n",
       "      <td>Euthanasia</td>\n",
       "      <td>Evening</td>\n",
       "    </tr>\n",
       "    <tr>\n",
       "      <th>79669</th>\n",
       "      <td>Other</td>\n",
       "      <td>Normal</td>\n",
       "      <td>Wildlife</td>\n",
       "      <td>Unknown</td>\n",
       "      <td>1.000000</td>\n",
       "      <td>0.025_to_2.5</td>\n",
       "      <td>3</td>\n",
       "      <td>Thursday</td>\n",
       "      <td>17</td>\n",
       "      <td>1.0</td>\n",
       "      <td>0.05</td>\n",
       "      <td>Yes</td>\n",
       "      <td>No</td>\n",
       "      <td>Euthanasia</td>\n",
       "      <td>Evening</td>\n",
       "    </tr>\n",
       "    <tr>\n",
       "      <th>79670</th>\n",
       "      <td>Dog</td>\n",
       "      <td>Normal</td>\n",
       "      <td>Stray</td>\n",
       "      <td>Intact Male</td>\n",
       "      <td>0.410959</td>\n",
       "      <td>0.025_to_2.5</td>\n",
       "      <td>3</td>\n",
       "      <td>Thursday</td>\n",
       "      <td>18</td>\n",
       "      <td>1.0</td>\n",
       "      <td>1.76</td>\n",
       "      <td>Yes</td>\n",
       "      <td>Yes</td>\n",
       "      <td>Return to Owner</td>\n",
       "      <td>Evening</td>\n",
       "    </tr>\n",
       "    <tr>\n",
       "      <th>79671</th>\n",
       "      <td>Dog</td>\n",
       "      <td>Aged</td>\n",
       "      <td>Stray</td>\n",
       "      <td>Spayed Female</td>\n",
       "      <td>10.000000</td>\n",
       "      <td>7.5_to_10.0</td>\n",
       "      <td>3</td>\n",
       "      <td>Thursday</td>\n",
       "      <td>18</td>\n",
       "      <td>1.0</td>\n",
       "      <td>0.81</td>\n",
       "      <td>Yes</td>\n",
       "      <td>No</td>\n",
       "      <td>Euthanasia</td>\n",
       "      <td>Evening</td>\n",
       "    </tr>\n",
       "  </tbody>\n",
       "</table>\n",
       "<p>79672 rows × 15 columns</p>\n",
       "</div>"
      ],
      "text/plain": [
       "      animal_type intake_condition      intake_type sex_upon_intake  \\\n",
       "0             Dog           Normal            Stray   Neutered Male   \n",
       "1             Dog           Normal    Public Assist   Neutered Male   \n",
       "2             Dog           Normal    Public Assist   Neutered Male   \n",
       "3             Dog           Normal  Owner Surrender   Neutered Male   \n",
       "4             Dog          Injured    Public Assist   Neutered Male   \n",
       "...           ...              ...              ...             ...   \n",
       "79667         Cat           Normal            Stray         Unknown   \n",
       "79668       Other           Normal         Wildlife         Unknown   \n",
       "79669       Other           Normal         Wildlife         Unknown   \n",
       "79670         Dog           Normal            Stray     Intact Male   \n",
       "79671         Dog             Aged            Stray   Spayed Female   \n",
       "\n",
       "       age_upon_intake_(years) age_upon_intake_age_group  intake_month  \\\n",
       "0                    10.000000               7.5_to_10.0            12   \n",
       "1                     7.000000                5.0_to_7.5            12   \n",
       "2                     6.000000                5.0_to_7.5             3   \n",
       "3                    10.000000               7.5_to_10.0             4   \n",
       "4                    16.000000              15.0_to_17.5            11   \n",
       "...                        ...                       ...           ...   \n",
       "79667                 0.038356              0.025_to_2.5             3   \n",
       "79668                 2.000000              0.025_to_2.5             3   \n",
       "79669                 1.000000              0.025_to_2.5             3   \n",
       "79670                 0.410959              0.025_to_2.5             3   \n",
       "79671                10.000000               7.5_to_10.0             3   \n",
       "\n",
       "      intake_weekday  intake_hour  intake_number  time_in_shelter_days is_mix  \\\n",
       "0           Thursday           14            1.0                  0.59    Yes   \n",
       "1             Friday           10            2.0                  1.26    Yes   \n",
       "2             Friday           14            3.0                  1.11    Yes   \n",
       "3          Wednesday           15            1.0                  4.97     No   \n",
       "4           Saturday            9            1.0                  0.12     No   \n",
       "...              ...          ...            ...                   ...    ...   \n",
       "79667       Thursday           16            1.0                  0.08    Yes   \n",
       "79668       Thursday           17            1.0                  0.05    Yes   \n",
       "79669       Thursday           17            1.0                  0.05    Yes   \n",
       "79670       Thursday           18            1.0                  1.76    Yes   \n",
       "79671       Thursday           18            1.0                  0.81    Yes   \n",
       "\n",
       "      animal_has_multicolor_fur     outcome_type time_of_day_of_intake  \n",
       "0                           Yes  Return to Owner             Afternoon  \n",
       "1                           Yes  Return to Owner          Late morning  \n",
       "2                           Yes  Return to Owner             Afternoon  \n",
       "3                            No         Transfer             Afternoon  \n",
       "4                           Yes  Return to Owner          Late morning  \n",
       "...                         ...              ...                   ...  \n",
       "79667                        No         Transfer             Afternoon  \n",
       "79668                        No       Euthanasia               Evening  \n",
       "79669                        No       Euthanasia               Evening  \n",
       "79670                       Yes  Return to Owner               Evening  \n",
       "79671                        No       Euthanasia               Evening  \n",
       "\n",
       "[79672 rows x 15 columns]"
      ]
     },
     "execution_count": 37,
     "metadata": {},
     "output_type": "execute_result"
    }
   ],
   "source": [
    "df"
   ]
  },
  {
   "cell_type": "markdown",
   "metadata": {},
   "source": [
    "## Zero-shot training (with all features)"
   ]
  },
  {
   "cell_type": "code",
   "execution_count": 38,
   "metadata": {},
   "outputs": [],
   "source": [
    "from sklearn.preprocessing import LabelEncoder\n",
    "le = LabelEncoder()\n",
    "from sklearn.model_selection import train_test_split"
   ]
  },
  {
   "cell_type": "code",
   "execution_count": 39,
   "metadata": {},
   "outputs": [],
   "source": [
    "le_enc = df.copy()"
   ]
  },
  {
   "cell_type": "code",
   "execution_count": 40,
   "metadata": {},
   "outputs": [],
   "source": [
    "def apply_le(df):\n",
    "    for col in df.columns:\n",
    "        if df[col].dtypes == \"object\":\n",
    "            df[col] = le.fit_transform(df[col])\n",
    "        else:\n",
    "            df[col] = df[col]\n",
    "    \n",
    "    return df"
   ]
  },
  {
   "cell_type": "code",
   "execution_count": 41,
   "metadata": {},
   "outputs": [],
   "source": [
    "le_enc = apply_le(le_enc)"
   ]
  },
  {
   "cell_type": "code",
   "execution_count": 42,
   "metadata": {},
   "outputs": [],
   "source": [
    "X, y = le_enc.loc[:, ~le_enc.columns.isin([\"outcome_type\"])], le_enc[\"outcome_type\"]\n",
    "\n",
    "X_train, X_test, y_train, y_test = train_test_split(X, y, test_size=0.2, random_state=42)"
   ]
  },
  {
   "cell_type": "code",
   "execution_count": 43,
   "metadata": {},
   "outputs": [],
   "source": [
    "# Training model 1\n",
    "from sklearn.ensemble import RandomForestClassifier\n",
    "from sklearn.neighbors import KNeighborsClassifier\n",
    "from xgboost import XGBClassifier"
   ]
  },
  {
   "cell_type": "code",
   "execution_count": 44,
   "metadata": {},
   "outputs": [],
   "source": [
    "rfc, knn, xgb = RandomForestClassifier(), KNeighborsClassifier(), XGBClassifier()"
   ]
  },
  {
   "cell_type": "code",
   "execution_count": 45,
   "metadata": {},
   "outputs": [],
   "source": [
    "rfc.fit(X_train, y_train)\n",
    "y_pred_rfc = rfc.predict(X_test)"
   ]
  },
  {
   "cell_type": "code",
   "execution_count": 46,
   "metadata": {},
   "outputs": [],
   "source": [
    "knn.fit(X_train, y_train)\n",
    "y_pred_knn = knn.predict(X_test)"
   ]
  },
  {
   "cell_type": "code",
   "execution_count": 47,
   "metadata": {},
   "outputs": [],
   "source": [
    "xgb.fit(X_train, y_train)\n",
    "y_pred_xgb = xgb.predict(X_test)"
   ]
  },
  {
   "cell_type": "markdown",
   "metadata": {},
   "source": [
    "### Classification report"
   ]
  },
  {
   "cell_type": "code",
   "execution_count": 48,
   "metadata": {},
   "outputs": [],
   "source": [
    "from sklearn.metrics import classification_report, confusion_matrix, accuracy_score"
   ]
  },
  {
   "cell_type": "code",
   "execution_count": 49,
   "metadata": {},
   "outputs": [
    {
     "name": "stdout",
     "output_type": "stream",
     "text": [
      "              precision    recall  f1-score   support\n",
      "\n",
      "           0       0.74      0.90      0.81      6638\n",
      "           1       0.65      0.08      0.15       153\n",
      "           2       0.70      0.24      0.36        67\n",
      "           3       0.82      0.68      0.74      1201\n",
      "           4       0.00      0.00      0.00        15\n",
      "           5       0.00      0.00      0.00         3\n",
      "           6       0.00      0.00      0.00         0\n",
      "           7       0.87      0.80      0.83      2985\n",
      "           8       0.00      0.00      0.00        34\n",
      "           9       0.76      0.64      0.70      4839\n",
      "\n",
      "    accuracy                           0.77     15935\n",
      "   macro avg       0.45      0.33      0.36     15935\n",
      "weighted avg       0.77      0.77      0.76     15935\n",
      "\n"
     ]
    },
    {
     "name": "stderr",
     "output_type": "stream",
     "text": [
      "/Users/yutikarege/Desktop/Personal Projects/AnimalShelterProject/venv/lib/python3.11/site-packages/sklearn/metrics/_classification.py:1509: UndefinedMetricWarning: Precision is ill-defined and being set to 0.0 in labels with no predicted samples. Use `zero_division` parameter to control this behavior.\n",
      "  _warn_prf(average, modifier, f\"{metric.capitalize()} is\", len(result))\n",
      "/Users/yutikarege/Desktop/Personal Projects/AnimalShelterProject/venv/lib/python3.11/site-packages/sklearn/metrics/_classification.py:1509: UndefinedMetricWarning: Recall is ill-defined and being set to 0.0 in labels with no true samples. Use `zero_division` parameter to control this behavior.\n",
      "  _warn_prf(average, modifier, f\"{metric.capitalize()} is\", len(result))\n",
      "/Users/yutikarege/Desktop/Personal Projects/AnimalShelterProject/venv/lib/python3.11/site-packages/sklearn/metrics/_classification.py:1509: UndefinedMetricWarning: Precision is ill-defined and being set to 0.0 in labels with no predicted samples. Use `zero_division` parameter to control this behavior.\n",
      "  _warn_prf(average, modifier, f\"{metric.capitalize()} is\", len(result))\n",
      "/Users/yutikarege/Desktop/Personal Projects/AnimalShelterProject/venv/lib/python3.11/site-packages/sklearn/metrics/_classification.py:1509: UndefinedMetricWarning: Recall is ill-defined and being set to 0.0 in labels with no true samples. Use `zero_division` parameter to control this behavior.\n",
      "  _warn_prf(average, modifier, f\"{metric.capitalize()} is\", len(result))\n",
      "/Users/yutikarege/Desktop/Personal Projects/AnimalShelterProject/venv/lib/python3.11/site-packages/sklearn/metrics/_classification.py:1509: UndefinedMetricWarning: Precision is ill-defined and being set to 0.0 in labels with no predicted samples. Use `zero_division` parameter to control this behavior.\n",
      "  _warn_prf(average, modifier, f\"{metric.capitalize()} is\", len(result))\n",
      "/Users/yutikarege/Desktop/Personal Projects/AnimalShelterProject/venv/lib/python3.11/site-packages/sklearn/metrics/_classification.py:1509: UndefinedMetricWarning: Recall is ill-defined and being set to 0.0 in labels with no true samples. Use `zero_division` parameter to control this behavior.\n",
      "  _warn_prf(average, modifier, f\"{metric.capitalize()} is\", len(result))\n"
     ]
    }
   ],
   "source": [
    "print(classification_report(y_test, y_pred_rfc))"
   ]
  },
  {
   "cell_type": "code",
   "execution_count": 50,
   "metadata": {},
   "outputs": [
    {
     "name": "stdout",
     "output_type": "stream",
     "text": [
      "              precision    recall  f1-score   support\n",
      "\n",
      "           0       0.68      0.85      0.75      6638\n",
      "           1       0.27      0.03      0.05       153\n",
      "           2       0.50      0.19      0.28        67\n",
      "           3       0.74      0.55      0.63      1201\n",
      "           4       0.33      0.07      0.11        15\n",
      "           5       0.00      0.00      0.00         3\n",
      "           7       0.71      0.68      0.70      2985\n",
      "           8       0.00      0.00      0.00        34\n",
      "           9       0.68      0.53      0.60      4839\n",
      "\n",
      "    accuracy                           0.69     15935\n",
      "   macro avg       0.43      0.32      0.35     15935\n",
      "weighted avg       0.68      0.69      0.67     15935\n",
      "\n"
     ]
    },
    {
     "name": "stderr",
     "output_type": "stream",
     "text": [
      "/Users/yutikarege/Desktop/Personal Projects/AnimalShelterProject/venv/lib/python3.11/site-packages/sklearn/metrics/_classification.py:1509: UndefinedMetricWarning: Precision is ill-defined and being set to 0.0 in labels with no predicted samples. Use `zero_division` parameter to control this behavior.\n",
      "  _warn_prf(average, modifier, f\"{metric.capitalize()} is\", len(result))\n",
      "/Users/yutikarege/Desktop/Personal Projects/AnimalShelterProject/venv/lib/python3.11/site-packages/sklearn/metrics/_classification.py:1509: UndefinedMetricWarning: Precision is ill-defined and being set to 0.0 in labels with no predicted samples. Use `zero_division` parameter to control this behavior.\n",
      "  _warn_prf(average, modifier, f\"{metric.capitalize()} is\", len(result))\n",
      "/Users/yutikarege/Desktop/Personal Projects/AnimalShelterProject/venv/lib/python3.11/site-packages/sklearn/metrics/_classification.py:1509: UndefinedMetricWarning: Precision is ill-defined and being set to 0.0 in labels with no predicted samples. Use `zero_division` parameter to control this behavior.\n",
      "  _warn_prf(average, modifier, f\"{metric.capitalize()} is\", len(result))\n"
     ]
    }
   ],
   "source": [
    "print(classification_report(y_test, y_pred_knn))"
   ]
  },
  {
   "cell_type": "code",
   "execution_count": 51,
   "metadata": {},
   "outputs": [
    {
     "name": "stdout",
     "output_type": "stream",
     "text": [
      "              precision    recall  f1-score   support\n",
      "\n",
      "           0       0.73      0.92      0.82      6638\n",
      "           1       0.55      0.07      0.13       153\n",
      "           2       0.60      0.27      0.37        67\n",
      "           3       0.82      0.68      0.75      1201\n",
      "           4       0.00      0.00      0.00        15\n",
      "           5       0.00      0.00      0.00         3\n",
      "           6       0.00      0.00      0.00         0\n",
      "           7       0.88      0.79      0.83      2985\n",
      "           8       0.00      0.00      0.00        34\n",
      "           9       0.78      0.62      0.69      4839\n",
      "\n",
      "    accuracy                           0.77     15935\n",
      "   macro avg       0.44      0.34      0.36     15935\n",
      "weighted avg       0.77      0.77      0.76     15935\n",
      "\n"
     ]
    },
    {
     "name": "stderr",
     "output_type": "stream",
     "text": [
      "/Users/yutikarege/Desktop/Personal Projects/AnimalShelterProject/venv/lib/python3.11/site-packages/sklearn/metrics/_classification.py:1509: UndefinedMetricWarning: Precision is ill-defined and being set to 0.0 in labels with no predicted samples. Use `zero_division` parameter to control this behavior.\n",
      "  _warn_prf(average, modifier, f\"{metric.capitalize()} is\", len(result))\n",
      "/Users/yutikarege/Desktop/Personal Projects/AnimalShelterProject/venv/lib/python3.11/site-packages/sklearn/metrics/_classification.py:1509: UndefinedMetricWarning: Recall is ill-defined and being set to 0.0 in labels with no true samples. Use `zero_division` parameter to control this behavior.\n",
      "  _warn_prf(average, modifier, f\"{metric.capitalize()} is\", len(result))\n",
      "/Users/yutikarege/Desktop/Personal Projects/AnimalShelterProject/venv/lib/python3.11/site-packages/sklearn/metrics/_classification.py:1509: UndefinedMetricWarning: Precision is ill-defined and being set to 0.0 in labels with no predicted samples. Use `zero_division` parameter to control this behavior.\n",
      "  _warn_prf(average, modifier, f\"{metric.capitalize()} is\", len(result))\n",
      "/Users/yutikarege/Desktop/Personal Projects/AnimalShelterProject/venv/lib/python3.11/site-packages/sklearn/metrics/_classification.py:1509: UndefinedMetricWarning: Recall is ill-defined and being set to 0.0 in labels with no true samples. Use `zero_division` parameter to control this behavior.\n",
      "  _warn_prf(average, modifier, f\"{metric.capitalize()} is\", len(result))\n",
      "/Users/yutikarege/Desktop/Personal Projects/AnimalShelterProject/venv/lib/python3.11/site-packages/sklearn/metrics/_classification.py:1509: UndefinedMetricWarning: Precision is ill-defined and being set to 0.0 in labels with no predicted samples. Use `zero_division` parameter to control this behavior.\n",
      "  _warn_prf(average, modifier, f\"{metric.capitalize()} is\", len(result))\n",
      "/Users/yutikarege/Desktop/Personal Projects/AnimalShelterProject/venv/lib/python3.11/site-packages/sklearn/metrics/_classification.py:1509: UndefinedMetricWarning: Recall is ill-defined and being set to 0.0 in labels with no true samples. Use `zero_division` parameter to control this behavior.\n",
      "  _warn_prf(average, modifier, f\"{metric.capitalize()} is\", len(result))\n"
     ]
    }
   ],
   "source": [
    "print(classification_report(y_test, y_pred_xgb))"
   ]
  },
  {
   "cell_type": "markdown",
   "metadata": {},
   "source": [
    "The models are obviously underperforming due to lack of quality features and a lot a bias in the output features. \n",
    "\n",
    "## Feature enhancements"
   ]
  },
  {
   "cell_type": "code",
   "execution_count": 52,
   "metadata": {},
   "outputs": [
    {
     "data": {
      "text/html": [
       "<div>\n",
       "<style scoped>\n",
       "    .dataframe tbody tr th:only-of-type {\n",
       "        vertical-align: middle;\n",
       "    }\n",
       "\n",
       "    .dataframe tbody tr th {\n",
       "        vertical-align: top;\n",
       "    }\n",
       "\n",
       "    .dataframe thead th {\n",
       "        text-align: right;\n",
       "    }\n",
       "</style>\n",
       "<table border=\"1\" class=\"dataframe\">\n",
       "  <thead>\n",
       "    <tr style=\"text-align: right;\">\n",
       "      <th></th>\n",
       "      <th>animal_type</th>\n",
       "      <th>intake_condition</th>\n",
       "      <th>intake_type</th>\n",
       "      <th>sex_upon_intake</th>\n",
       "      <th>age_upon_intake_(years)</th>\n",
       "      <th>age_upon_intake_age_group</th>\n",
       "      <th>intake_month</th>\n",
       "      <th>intake_weekday</th>\n",
       "      <th>intake_hour</th>\n",
       "      <th>intake_number</th>\n",
       "      <th>time_in_shelter_days</th>\n",
       "      <th>is_mix</th>\n",
       "      <th>animal_has_multicolor_fur</th>\n",
       "      <th>outcome_type</th>\n",
       "      <th>time_of_day_of_intake</th>\n",
       "    </tr>\n",
       "  </thead>\n",
       "  <tbody>\n",
       "    <tr>\n",
       "      <th>0</th>\n",
       "      <td>Dog</td>\n",
       "      <td>Normal</td>\n",
       "      <td>Stray</td>\n",
       "      <td>Neutered Male</td>\n",
       "      <td>10.000000</td>\n",
       "      <td>7.5_to_10.0</td>\n",
       "      <td>12</td>\n",
       "      <td>Thursday</td>\n",
       "      <td>14</td>\n",
       "      <td>1.0</td>\n",
       "      <td>0.59</td>\n",
       "      <td>Yes</td>\n",
       "      <td>Yes</td>\n",
       "      <td>Return to Owner</td>\n",
       "      <td>Afternoon</td>\n",
       "    </tr>\n",
       "    <tr>\n",
       "      <th>1</th>\n",
       "      <td>Dog</td>\n",
       "      <td>Normal</td>\n",
       "      <td>Public Assist</td>\n",
       "      <td>Neutered Male</td>\n",
       "      <td>7.000000</td>\n",
       "      <td>5.0_to_7.5</td>\n",
       "      <td>12</td>\n",
       "      <td>Friday</td>\n",
       "      <td>10</td>\n",
       "      <td>2.0</td>\n",
       "      <td>1.26</td>\n",
       "      <td>Yes</td>\n",
       "      <td>Yes</td>\n",
       "      <td>Return to Owner</td>\n",
       "      <td>Late morning</td>\n",
       "    </tr>\n",
       "    <tr>\n",
       "      <th>2</th>\n",
       "      <td>Dog</td>\n",
       "      <td>Normal</td>\n",
       "      <td>Public Assist</td>\n",
       "      <td>Neutered Male</td>\n",
       "      <td>6.000000</td>\n",
       "      <td>5.0_to_7.5</td>\n",
       "      <td>3</td>\n",
       "      <td>Friday</td>\n",
       "      <td>14</td>\n",
       "      <td>3.0</td>\n",
       "      <td>1.11</td>\n",
       "      <td>Yes</td>\n",
       "      <td>Yes</td>\n",
       "      <td>Return to Owner</td>\n",
       "      <td>Afternoon</td>\n",
       "    </tr>\n",
       "    <tr>\n",
       "      <th>3</th>\n",
       "      <td>Dog</td>\n",
       "      <td>Normal</td>\n",
       "      <td>Owner Surrender</td>\n",
       "      <td>Neutered Male</td>\n",
       "      <td>10.000000</td>\n",
       "      <td>7.5_to_10.0</td>\n",
       "      <td>4</td>\n",
       "      <td>Wednesday</td>\n",
       "      <td>15</td>\n",
       "      <td>1.0</td>\n",
       "      <td>4.97</td>\n",
       "      <td>No</td>\n",
       "      <td>No</td>\n",
       "      <td>Transfer</td>\n",
       "      <td>Afternoon</td>\n",
       "    </tr>\n",
       "    <tr>\n",
       "      <th>4</th>\n",
       "      <td>Dog</td>\n",
       "      <td>Injured</td>\n",
       "      <td>Public Assist</td>\n",
       "      <td>Neutered Male</td>\n",
       "      <td>16.000000</td>\n",
       "      <td>15.0_to_17.5</td>\n",
       "      <td>11</td>\n",
       "      <td>Saturday</td>\n",
       "      <td>9</td>\n",
       "      <td>1.0</td>\n",
       "      <td>0.12</td>\n",
       "      <td>No</td>\n",
       "      <td>Yes</td>\n",
       "      <td>Return to Owner</td>\n",
       "      <td>Late morning</td>\n",
       "    </tr>\n",
       "    <tr>\n",
       "      <th>...</th>\n",
       "      <td>...</td>\n",
       "      <td>...</td>\n",
       "      <td>...</td>\n",
       "      <td>...</td>\n",
       "      <td>...</td>\n",
       "      <td>...</td>\n",
       "      <td>...</td>\n",
       "      <td>...</td>\n",
       "      <td>...</td>\n",
       "      <td>...</td>\n",
       "      <td>...</td>\n",
       "      <td>...</td>\n",
       "      <td>...</td>\n",
       "      <td>...</td>\n",
       "      <td>...</td>\n",
       "    </tr>\n",
       "    <tr>\n",
       "      <th>79667</th>\n",
       "      <td>Cat</td>\n",
       "      <td>Normal</td>\n",
       "      <td>Stray</td>\n",
       "      <td>Unknown</td>\n",
       "      <td>0.038356</td>\n",
       "      <td>0.025_to_2.5</td>\n",
       "      <td>3</td>\n",
       "      <td>Thursday</td>\n",
       "      <td>16</td>\n",
       "      <td>1.0</td>\n",
       "      <td>0.08</td>\n",
       "      <td>Yes</td>\n",
       "      <td>No</td>\n",
       "      <td>Transfer</td>\n",
       "      <td>Afternoon</td>\n",
       "    </tr>\n",
       "    <tr>\n",
       "      <th>79668</th>\n",
       "      <td>Other</td>\n",
       "      <td>Normal</td>\n",
       "      <td>Wildlife</td>\n",
       "      <td>Unknown</td>\n",
       "      <td>2.000000</td>\n",
       "      <td>0.025_to_2.5</td>\n",
       "      <td>3</td>\n",
       "      <td>Thursday</td>\n",
       "      <td>17</td>\n",
       "      <td>1.0</td>\n",
       "      <td>0.05</td>\n",
       "      <td>Yes</td>\n",
       "      <td>No</td>\n",
       "      <td>Euthanasia</td>\n",
       "      <td>Evening</td>\n",
       "    </tr>\n",
       "    <tr>\n",
       "      <th>79669</th>\n",
       "      <td>Other</td>\n",
       "      <td>Normal</td>\n",
       "      <td>Wildlife</td>\n",
       "      <td>Unknown</td>\n",
       "      <td>1.000000</td>\n",
       "      <td>0.025_to_2.5</td>\n",
       "      <td>3</td>\n",
       "      <td>Thursday</td>\n",
       "      <td>17</td>\n",
       "      <td>1.0</td>\n",
       "      <td>0.05</td>\n",
       "      <td>Yes</td>\n",
       "      <td>No</td>\n",
       "      <td>Euthanasia</td>\n",
       "      <td>Evening</td>\n",
       "    </tr>\n",
       "    <tr>\n",
       "      <th>79670</th>\n",
       "      <td>Dog</td>\n",
       "      <td>Normal</td>\n",
       "      <td>Stray</td>\n",
       "      <td>Intact Male</td>\n",
       "      <td>0.410959</td>\n",
       "      <td>0.025_to_2.5</td>\n",
       "      <td>3</td>\n",
       "      <td>Thursday</td>\n",
       "      <td>18</td>\n",
       "      <td>1.0</td>\n",
       "      <td>1.76</td>\n",
       "      <td>Yes</td>\n",
       "      <td>Yes</td>\n",
       "      <td>Return to Owner</td>\n",
       "      <td>Evening</td>\n",
       "    </tr>\n",
       "    <tr>\n",
       "      <th>79671</th>\n",
       "      <td>Dog</td>\n",
       "      <td>Aged</td>\n",
       "      <td>Stray</td>\n",
       "      <td>Spayed Female</td>\n",
       "      <td>10.000000</td>\n",
       "      <td>7.5_to_10.0</td>\n",
       "      <td>3</td>\n",
       "      <td>Thursday</td>\n",
       "      <td>18</td>\n",
       "      <td>1.0</td>\n",
       "      <td>0.81</td>\n",
       "      <td>Yes</td>\n",
       "      <td>No</td>\n",
       "      <td>Euthanasia</td>\n",
       "      <td>Evening</td>\n",
       "    </tr>\n",
       "  </tbody>\n",
       "</table>\n",
       "<p>79672 rows × 15 columns</p>\n",
       "</div>"
      ],
      "text/plain": [
       "      animal_type intake_condition      intake_type sex_upon_intake  \\\n",
       "0             Dog           Normal            Stray   Neutered Male   \n",
       "1             Dog           Normal    Public Assist   Neutered Male   \n",
       "2             Dog           Normal    Public Assist   Neutered Male   \n",
       "3             Dog           Normal  Owner Surrender   Neutered Male   \n",
       "4             Dog          Injured    Public Assist   Neutered Male   \n",
       "...           ...              ...              ...             ...   \n",
       "79667         Cat           Normal            Stray         Unknown   \n",
       "79668       Other           Normal         Wildlife         Unknown   \n",
       "79669       Other           Normal         Wildlife         Unknown   \n",
       "79670         Dog           Normal            Stray     Intact Male   \n",
       "79671         Dog             Aged            Stray   Spayed Female   \n",
       "\n",
       "       age_upon_intake_(years) age_upon_intake_age_group  intake_month  \\\n",
       "0                    10.000000               7.5_to_10.0            12   \n",
       "1                     7.000000                5.0_to_7.5            12   \n",
       "2                     6.000000                5.0_to_7.5             3   \n",
       "3                    10.000000               7.5_to_10.0             4   \n",
       "4                    16.000000              15.0_to_17.5            11   \n",
       "...                        ...                       ...           ...   \n",
       "79667                 0.038356              0.025_to_2.5             3   \n",
       "79668                 2.000000              0.025_to_2.5             3   \n",
       "79669                 1.000000              0.025_to_2.5             3   \n",
       "79670                 0.410959              0.025_to_2.5             3   \n",
       "79671                10.000000               7.5_to_10.0             3   \n",
       "\n",
       "      intake_weekday  intake_hour  intake_number  time_in_shelter_days is_mix  \\\n",
       "0           Thursday           14            1.0                  0.59    Yes   \n",
       "1             Friday           10            2.0                  1.26    Yes   \n",
       "2             Friday           14            3.0                  1.11    Yes   \n",
       "3          Wednesday           15            1.0                  4.97     No   \n",
       "4           Saturday            9            1.0                  0.12     No   \n",
       "...              ...          ...            ...                   ...    ...   \n",
       "79667       Thursday           16            1.0                  0.08    Yes   \n",
       "79668       Thursday           17            1.0                  0.05    Yes   \n",
       "79669       Thursday           17            1.0                  0.05    Yes   \n",
       "79670       Thursday           18            1.0                  1.76    Yes   \n",
       "79671       Thursday           18            1.0                  0.81    Yes   \n",
       "\n",
       "      animal_has_multicolor_fur     outcome_type time_of_day_of_intake  \n",
       "0                           Yes  Return to Owner             Afternoon  \n",
       "1                           Yes  Return to Owner          Late morning  \n",
       "2                           Yes  Return to Owner             Afternoon  \n",
       "3                            No         Transfer             Afternoon  \n",
       "4                           Yes  Return to Owner          Late morning  \n",
       "...                         ...              ...                   ...  \n",
       "79667                        No         Transfer             Afternoon  \n",
       "79668                        No       Euthanasia               Evening  \n",
       "79669                        No       Euthanasia               Evening  \n",
       "79670                       Yes  Return to Owner               Evening  \n",
       "79671                        No       Euthanasia               Evening  \n",
       "\n",
       "[79672 rows x 15 columns]"
      ]
     },
     "execution_count": 52,
     "metadata": {},
     "output_type": "execute_result"
    }
   ],
   "source": [
    "df"
   ]
  },
  {
   "cell_type": "code",
   "execution_count": 53,
   "metadata": {},
   "outputs": [
    {
     "name": "stdout",
     "output_type": "stream",
     "text": [
      "intake_condition ===== 8 unique features\n",
      "age_upon_intake_(years) ===== 45 unique features\n",
      "age_upon_intake_age_group ===== 10 unique features\n",
      "intake_month ===== 12 unique features\n",
      "intake_weekday ===== 7 unique features\n",
      "intake_hour ===== 24 unique features\n",
      "intake_number ===== 13 unique features\n",
      "time_in_shelter_days ===== 8357 unique features\n",
      "outcome_type ===== 10 unique features\n"
     ]
    }
   ],
   "source": [
    "for col in df.columns:\n",
    "    if df[col].nunique() > 5:\n",
    "        print(col, '='*5 , df[col].nunique(), \"unique features\")"
   ]
  },
  {
   "cell_type": "code",
   "execution_count": 54,
   "metadata": {},
   "outputs": [
    {
     "data": {
      "text/plain": [
       "intake_condition\n",
       "Normal      70056\n",
       "Injured      3997\n",
       "Sick         3099\n",
       "Nursing      1915\n",
       "Aged          319\n",
       "Other         147\n",
       "Feral          92\n",
       "Pregnant       47\n",
       "Name: count, dtype: int64"
      ]
     },
     "execution_count": 54,
     "metadata": {},
     "output_type": "execute_result"
    }
   ],
   "source": [
    "df[\"intake_condition\"].value_counts()"
   ]
  },
  {
   "cell_type": "code",
   "execution_count": 55,
   "metadata": {},
   "outputs": [],
   "source": [
    "df[\"intake_condition\"] = df[\"intake_condition\"].apply(lambda x: \"Other\" if x in [\"Nursing\", \"Aged\", \"Other\", \"Feral\", \"Pregnant\"] else x)"
   ]
  },
  {
   "cell_type": "code",
   "execution_count": 56,
   "metadata": {},
   "outputs": [
    {
     "data": {
      "text/plain": [
       "intake_condition\n",
       "Normal     70056\n",
       "Injured     3997\n",
       "Sick        3099\n",
       "Other       2520\n",
       "Name: count, dtype: int64"
      ]
     },
     "execution_count": 56,
     "metadata": {},
     "output_type": "execute_result"
    }
   ],
   "source": [
    "df[\"intake_condition\"].value_counts()"
   ]
  },
  {
   "cell_type": "code",
   "execution_count": 57,
   "metadata": {},
   "outputs": [
    {
     "data": {
      "text/plain": [
       "age_upon_intake_age_group\n",
       "0.025_to_2.5    59593\n",
       "2.5_to_5.0      11013\n",
       "7.5_to_10.0      3539\n",
       "5.0_to_7.5       3422\n",
       "10.0_to_12.5     1040\n",
       "12.5_to_15.0      842\n",
       "15.0_to_17.5      165\n",
       "17.5_to_20.0       53\n",
       "20.0_to_22.5        4\n",
       "22.5_to_25.0        1\n",
       "Name: count, dtype: int64"
      ]
     },
     "execution_count": 57,
     "metadata": {},
     "output_type": "execute_result"
    }
   ],
   "source": [
    "df[\"age_upon_intake_age_group\"].value_counts()"
   ]
  },
  {
   "cell_type": "code",
   "execution_count": 58,
   "metadata": {},
   "outputs": [],
   "source": [
    "df.drop([\"age_upon_intake_age_group\"], axis=1, inplace=True) #it is safe to drop this feature since it is subjective to the type of pet"
   ]
  },
  {
   "cell_type": "code",
   "execution_count": 59,
   "metadata": {},
   "outputs": [],
   "source": [
    "df.drop([\"intake_number\"], axis=1, inplace=True)"
   ]
  },
  {
   "cell_type": "code",
   "execution_count": 60,
   "metadata": {},
   "outputs": [
    {
     "data": {
      "text/html": [
       "<div>\n",
       "<style scoped>\n",
       "    .dataframe tbody tr th:only-of-type {\n",
       "        vertical-align: middle;\n",
       "    }\n",
       "\n",
       "    .dataframe tbody tr th {\n",
       "        vertical-align: top;\n",
       "    }\n",
       "\n",
       "    .dataframe thead th {\n",
       "        text-align: right;\n",
       "    }\n",
       "</style>\n",
       "<table border=\"1\" class=\"dataframe\">\n",
       "  <thead>\n",
       "    <tr style=\"text-align: right;\">\n",
       "      <th></th>\n",
       "      <th>animal_type</th>\n",
       "      <th>intake_condition</th>\n",
       "      <th>intake_type</th>\n",
       "      <th>sex_upon_intake</th>\n",
       "      <th>age_upon_intake_(years)</th>\n",
       "      <th>intake_month</th>\n",
       "      <th>intake_weekday</th>\n",
       "      <th>intake_hour</th>\n",
       "      <th>time_in_shelter_days</th>\n",
       "      <th>is_mix</th>\n",
       "      <th>animal_has_multicolor_fur</th>\n",
       "      <th>outcome_type</th>\n",
       "      <th>time_of_day_of_intake</th>\n",
       "    </tr>\n",
       "  </thead>\n",
       "  <tbody>\n",
       "    <tr>\n",
       "      <th>0</th>\n",
       "      <td>Dog</td>\n",
       "      <td>Normal</td>\n",
       "      <td>Stray</td>\n",
       "      <td>Neutered Male</td>\n",
       "      <td>10.000000</td>\n",
       "      <td>12</td>\n",
       "      <td>Thursday</td>\n",
       "      <td>14</td>\n",
       "      <td>0.59</td>\n",
       "      <td>Yes</td>\n",
       "      <td>Yes</td>\n",
       "      <td>Return to Owner</td>\n",
       "      <td>Afternoon</td>\n",
       "    </tr>\n",
       "    <tr>\n",
       "      <th>1</th>\n",
       "      <td>Dog</td>\n",
       "      <td>Normal</td>\n",
       "      <td>Public Assist</td>\n",
       "      <td>Neutered Male</td>\n",
       "      <td>7.000000</td>\n",
       "      <td>12</td>\n",
       "      <td>Friday</td>\n",
       "      <td>10</td>\n",
       "      <td>1.26</td>\n",
       "      <td>Yes</td>\n",
       "      <td>Yes</td>\n",
       "      <td>Return to Owner</td>\n",
       "      <td>Late morning</td>\n",
       "    </tr>\n",
       "    <tr>\n",
       "      <th>2</th>\n",
       "      <td>Dog</td>\n",
       "      <td>Normal</td>\n",
       "      <td>Public Assist</td>\n",
       "      <td>Neutered Male</td>\n",
       "      <td>6.000000</td>\n",
       "      <td>3</td>\n",
       "      <td>Friday</td>\n",
       "      <td>14</td>\n",
       "      <td>1.11</td>\n",
       "      <td>Yes</td>\n",
       "      <td>Yes</td>\n",
       "      <td>Return to Owner</td>\n",
       "      <td>Afternoon</td>\n",
       "    </tr>\n",
       "    <tr>\n",
       "      <th>3</th>\n",
       "      <td>Dog</td>\n",
       "      <td>Normal</td>\n",
       "      <td>Owner Surrender</td>\n",
       "      <td>Neutered Male</td>\n",
       "      <td>10.000000</td>\n",
       "      <td>4</td>\n",
       "      <td>Wednesday</td>\n",
       "      <td>15</td>\n",
       "      <td>4.97</td>\n",
       "      <td>No</td>\n",
       "      <td>No</td>\n",
       "      <td>Transfer</td>\n",
       "      <td>Afternoon</td>\n",
       "    </tr>\n",
       "    <tr>\n",
       "      <th>4</th>\n",
       "      <td>Dog</td>\n",
       "      <td>Injured</td>\n",
       "      <td>Public Assist</td>\n",
       "      <td>Neutered Male</td>\n",
       "      <td>16.000000</td>\n",
       "      <td>11</td>\n",
       "      <td>Saturday</td>\n",
       "      <td>9</td>\n",
       "      <td>0.12</td>\n",
       "      <td>No</td>\n",
       "      <td>Yes</td>\n",
       "      <td>Return to Owner</td>\n",
       "      <td>Late morning</td>\n",
       "    </tr>\n",
       "    <tr>\n",
       "      <th>...</th>\n",
       "      <td>...</td>\n",
       "      <td>...</td>\n",
       "      <td>...</td>\n",
       "      <td>...</td>\n",
       "      <td>...</td>\n",
       "      <td>...</td>\n",
       "      <td>...</td>\n",
       "      <td>...</td>\n",
       "      <td>...</td>\n",
       "      <td>...</td>\n",
       "      <td>...</td>\n",
       "      <td>...</td>\n",
       "      <td>...</td>\n",
       "    </tr>\n",
       "    <tr>\n",
       "      <th>79667</th>\n",
       "      <td>Cat</td>\n",
       "      <td>Normal</td>\n",
       "      <td>Stray</td>\n",
       "      <td>Unknown</td>\n",
       "      <td>0.038356</td>\n",
       "      <td>3</td>\n",
       "      <td>Thursday</td>\n",
       "      <td>16</td>\n",
       "      <td>0.08</td>\n",
       "      <td>Yes</td>\n",
       "      <td>No</td>\n",
       "      <td>Transfer</td>\n",
       "      <td>Afternoon</td>\n",
       "    </tr>\n",
       "    <tr>\n",
       "      <th>79668</th>\n",
       "      <td>Other</td>\n",
       "      <td>Normal</td>\n",
       "      <td>Wildlife</td>\n",
       "      <td>Unknown</td>\n",
       "      <td>2.000000</td>\n",
       "      <td>3</td>\n",
       "      <td>Thursday</td>\n",
       "      <td>17</td>\n",
       "      <td>0.05</td>\n",
       "      <td>Yes</td>\n",
       "      <td>No</td>\n",
       "      <td>Euthanasia</td>\n",
       "      <td>Evening</td>\n",
       "    </tr>\n",
       "    <tr>\n",
       "      <th>79669</th>\n",
       "      <td>Other</td>\n",
       "      <td>Normal</td>\n",
       "      <td>Wildlife</td>\n",
       "      <td>Unknown</td>\n",
       "      <td>1.000000</td>\n",
       "      <td>3</td>\n",
       "      <td>Thursday</td>\n",
       "      <td>17</td>\n",
       "      <td>0.05</td>\n",
       "      <td>Yes</td>\n",
       "      <td>No</td>\n",
       "      <td>Euthanasia</td>\n",
       "      <td>Evening</td>\n",
       "    </tr>\n",
       "    <tr>\n",
       "      <th>79670</th>\n",
       "      <td>Dog</td>\n",
       "      <td>Normal</td>\n",
       "      <td>Stray</td>\n",
       "      <td>Intact Male</td>\n",
       "      <td>0.410959</td>\n",
       "      <td>3</td>\n",
       "      <td>Thursday</td>\n",
       "      <td>18</td>\n",
       "      <td>1.76</td>\n",
       "      <td>Yes</td>\n",
       "      <td>Yes</td>\n",
       "      <td>Return to Owner</td>\n",
       "      <td>Evening</td>\n",
       "    </tr>\n",
       "    <tr>\n",
       "      <th>79671</th>\n",
       "      <td>Dog</td>\n",
       "      <td>Other</td>\n",
       "      <td>Stray</td>\n",
       "      <td>Spayed Female</td>\n",
       "      <td>10.000000</td>\n",
       "      <td>3</td>\n",
       "      <td>Thursday</td>\n",
       "      <td>18</td>\n",
       "      <td>0.81</td>\n",
       "      <td>Yes</td>\n",
       "      <td>No</td>\n",
       "      <td>Euthanasia</td>\n",
       "      <td>Evening</td>\n",
       "    </tr>\n",
       "  </tbody>\n",
       "</table>\n",
       "<p>79672 rows × 13 columns</p>\n",
       "</div>"
      ],
      "text/plain": [
       "      animal_type intake_condition      intake_type sex_upon_intake  \\\n",
       "0             Dog           Normal            Stray   Neutered Male   \n",
       "1             Dog           Normal    Public Assist   Neutered Male   \n",
       "2             Dog           Normal    Public Assist   Neutered Male   \n",
       "3             Dog           Normal  Owner Surrender   Neutered Male   \n",
       "4             Dog          Injured    Public Assist   Neutered Male   \n",
       "...           ...              ...              ...             ...   \n",
       "79667         Cat           Normal            Stray         Unknown   \n",
       "79668       Other           Normal         Wildlife         Unknown   \n",
       "79669       Other           Normal         Wildlife         Unknown   \n",
       "79670         Dog           Normal            Stray     Intact Male   \n",
       "79671         Dog            Other            Stray   Spayed Female   \n",
       "\n",
       "       age_upon_intake_(years)  intake_month intake_weekday  intake_hour  \\\n",
       "0                    10.000000            12       Thursday           14   \n",
       "1                     7.000000            12         Friday           10   \n",
       "2                     6.000000             3         Friday           14   \n",
       "3                    10.000000             4      Wednesday           15   \n",
       "4                    16.000000            11       Saturday            9   \n",
       "...                        ...           ...            ...          ...   \n",
       "79667                 0.038356             3       Thursday           16   \n",
       "79668                 2.000000             3       Thursday           17   \n",
       "79669                 1.000000             3       Thursday           17   \n",
       "79670                 0.410959             3       Thursday           18   \n",
       "79671                10.000000             3       Thursday           18   \n",
       "\n",
       "       time_in_shelter_days is_mix animal_has_multicolor_fur     outcome_type  \\\n",
       "0                      0.59    Yes                       Yes  Return to Owner   \n",
       "1                      1.26    Yes                       Yes  Return to Owner   \n",
       "2                      1.11    Yes                       Yes  Return to Owner   \n",
       "3                      4.97     No                        No         Transfer   \n",
       "4                      0.12     No                       Yes  Return to Owner   \n",
       "...                     ...    ...                       ...              ...   \n",
       "79667                  0.08    Yes                        No         Transfer   \n",
       "79668                  0.05    Yes                        No       Euthanasia   \n",
       "79669                  0.05    Yes                        No       Euthanasia   \n",
       "79670                  1.76    Yes                       Yes  Return to Owner   \n",
       "79671                  0.81    Yes                        No       Euthanasia   \n",
       "\n",
       "      time_of_day_of_intake  \n",
       "0                 Afternoon  \n",
       "1              Late morning  \n",
       "2                 Afternoon  \n",
       "3                 Afternoon  \n",
       "4              Late morning  \n",
       "...                     ...  \n",
       "79667             Afternoon  \n",
       "79668               Evening  \n",
       "79669               Evening  \n",
       "79670               Evening  \n",
       "79671               Evening  \n",
       "\n",
       "[79672 rows x 13 columns]"
      ]
     },
     "execution_count": 60,
     "metadata": {},
     "output_type": "execute_result"
    }
   ],
   "source": [
    "df"
   ]
  },
  {
   "cell_type": "code",
   "execution_count": null,
   "metadata": {},
   "outputs": [],
   "source": []
  },
  {
   "cell_type": "code",
   "execution_count": 61,
   "metadata": {},
   "outputs": [
    {
     "data": {
      "text/plain": [
       "outcome_type\n",
       "Adoption           33594\n",
       "Transfer           23799\n",
       "Return to Owner    14791\n",
       "Euthanasia          6244\n",
       "Died                 690\n",
       "Disposal             304\n",
       "Rto-Adopt            179\n",
       "Missing               46\n",
       "Relocate              15\n",
       "Other                 10\n",
       "Name: count, dtype: int64"
      ]
     },
     "execution_count": 61,
     "metadata": {},
     "output_type": "execute_result"
    }
   ],
   "source": [
    "df[\"outcome_type\"].value_counts()"
   ]
  },
  {
   "cell_type": "code",
   "execution_count": 62,
   "metadata": {},
   "outputs": [],
   "source": [
    "df[\"outcome_type\"] = df[\"outcome_type\"].apply(lambda x: \"Other\" if x in [\"Died\", \"Disposal\", \"Rto-Adopt\", \n",
    "                                                                         \"Missing\", \"Relocate\", \"Other\"] else x)"
   ]
  },
  {
   "cell_type": "code",
   "execution_count": 63,
   "metadata": {},
   "outputs": [
    {
     "data": {
      "text/plain": [
       "outcome_type\n",
       "Adoption           33594\n",
       "Transfer           23799\n",
       "Return to Owner    14791\n",
       "Euthanasia          6244\n",
       "Other               1244\n",
       "Name: count, dtype: int64"
      ]
     },
     "execution_count": 63,
     "metadata": {},
     "output_type": "execute_result"
    }
   ],
   "source": [
    "df[\"outcome_type\"].value_counts()"
   ]
  },
  {
   "cell_type": "code",
   "execution_count": null,
   "metadata": {},
   "outputs": [],
   "source": []
  },
  {
   "cell_type": "code",
   "execution_count": 64,
   "metadata": {},
   "outputs": [],
   "source": [
    "le_enc_new = df.copy()"
   ]
  },
  {
   "cell_type": "code",
   "execution_count": 65,
   "metadata": {},
   "outputs": [],
   "source": [
    "le_enc_new = apply_le(le_enc_new)"
   ]
  },
  {
   "cell_type": "code",
   "execution_count": 66,
   "metadata": {},
   "outputs": [
    {
     "data": {
      "text/html": [
       "<div>\n",
       "<style scoped>\n",
       "    .dataframe tbody tr th:only-of-type {\n",
       "        vertical-align: middle;\n",
       "    }\n",
       "\n",
       "    .dataframe tbody tr th {\n",
       "        vertical-align: top;\n",
       "    }\n",
       "\n",
       "    .dataframe thead th {\n",
       "        text-align: right;\n",
       "    }\n",
       "</style>\n",
       "<table border=\"1\" class=\"dataframe\">\n",
       "  <thead>\n",
       "    <tr style=\"text-align: right;\">\n",
       "      <th></th>\n",
       "      <th>animal_type</th>\n",
       "      <th>intake_condition</th>\n",
       "      <th>intake_type</th>\n",
       "      <th>sex_upon_intake</th>\n",
       "      <th>age_upon_intake_(years)</th>\n",
       "      <th>intake_month</th>\n",
       "      <th>intake_weekday</th>\n",
       "      <th>intake_hour</th>\n",
       "      <th>time_in_shelter_days</th>\n",
       "      <th>is_mix</th>\n",
       "      <th>animal_has_multicolor_fur</th>\n",
       "      <th>outcome_type</th>\n",
       "      <th>time_of_day_of_intake</th>\n",
       "    </tr>\n",
       "  </thead>\n",
       "  <tbody>\n",
       "    <tr>\n",
       "      <th>0</th>\n",
       "      <td>2</td>\n",
       "      <td>1</td>\n",
       "      <td>3</td>\n",
       "      <td>2</td>\n",
       "      <td>10.000000</td>\n",
       "      <td>12</td>\n",
       "      <td>4</td>\n",
       "      <td>14</td>\n",
       "      <td>0.59</td>\n",
       "      <td>1</td>\n",
       "      <td>1</td>\n",
       "      <td>3</td>\n",
       "      <td>0</td>\n",
       "    </tr>\n",
       "    <tr>\n",
       "      <th>1</th>\n",
       "      <td>2</td>\n",
       "      <td>1</td>\n",
       "      <td>2</td>\n",
       "      <td>2</td>\n",
       "      <td>7.000000</td>\n",
       "      <td>12</td>\n",
       "      <td>0</td>\n",
       "      <td>10</td>\n",
       "      <td>1.26</td>\n",
       "      <td>1</td>\n",
       "      <td>1</td>\n",
       "      <td>3</td>\n",
       "      <td>3</td>\n",
       "    </tr>\n",
       "    <tr>\n",
       "      <th>2</th>\n",
       "      <td>2</td>\n",
       "      <td>1</td>\n",
       "      <td>2</td>\n",
       "      <td>2</td>\n",
       "      <td>6.000000</td>\n",
       "      <td>3</td>\n",
       "      <td>0</td>\n",
       "      <td>14</td>\n",
       "      <td>1.11</td>\n",
       "      <td>1</td>\n",
       "      <td>1</td>\n",
       "      <td>3</td>\n",
       "      <td>0</td>\n",
       "    </tr>\n",
       "    <tr>\n",
       "      <th>3</th>\n",
       "      <td>2</td>\n",
       "      <td>1</td>\n",
       "      <td>1</td>\n",
       "      <td>2</td>\n",
       "      <td>10.000000</td>\n",
       "      <td>4</td>\n",
       "      <td>6</td>\n",
       "      <td>15</td>\n",
       "      <td>4.97</td>\n",
       "      <td>0</td>\n",
       "      <td>0</td>\n",
       "      <td>4</td>\n",
       "      <td>0</td>\n",
       "    </tr>\n",
       "    <tr>\n",
       "      <th>4</th>\n",
       "      <td>2</td>\n",
       "      <td>0</td>\n",
       "      <td>2</td>\n",
       "      <td>2</td>\n",
       "      <td>16.000000</td>\n",
       "      <td>11</td>\n",
       "      <td>2</td>\n",
       "      <td>9</td>\n",
       "      <td>0.12</td>\n",
       "      <td>0</td>\n",
       "      <td>1</td>\n",
       "      <td>3</td>\n",
       "      <td>3</td>\n",
       "    </tr>\n",
       "    <tr>\n",
       "      <th>...</th>\n",
       "      <td>...</td>\n",
       "      <td>...</td>\n",
       "      <td>...</td>\n",
       "      <td>...</td>\n",
       "      <td>...</td>\n",
       "      <td>...</td>\n",
       "      <td>...</td>\n",
       "      <td>...</td>\n",
       "      <td>...</td>\n",
       "      <td>...</td>\n",
       "      <td>...</td>\n",
       "      <td>...</td>\n",
       "      <td>...</td>\n",
       "    </tr>\n",
       "    <tr>\n",
       "      <th>79667</th>\n",
       "      <td>1</td>\n",
       "      <td>1</td>\n",
       "      <td>3</td>\n",
       "      <td>4</td>\n",
       "      <td>0.038356</td>\n",
       "      <td>3</td>\n",
       "      <td>4</td>\n",
       "      <td>16</td>\n",
       "      <td>0.08</td>\n",
       "      <td>1</td>\n",
       "      <td>0</td>\n",
       "      <td>4</td>\n",
       "      <td>0</td>\n",
       "    </tr>\n",
       "    <tr>\n",
       "      <th>79668</th>\n",
       "      <td>3</td>\n",
       "      <td>1</td>\n",
       "      <td>4</td>\n",
       "      <td>4</td>\n",
       "      <td>2.000000</td>\n",
       "      <td>3</td>\n",
       "      <td>4</td>\n",
       "      <td>17</td>\n",
       "      <td>0.05</td>\n",
       "      <td>1</td>\n",
       "      <td>0</td>\n",
       "      <td>1</td>\n",
       "      <td>2</td>\n",
       "    </tr>\n",
       "    <tr>\n",
       "      <th>79669</th>\n",
       "      <td>3</td>\n",
       "      <td>1</td>\n",
       "      <td>4</td>\n",
       "      <td>4</td>\n",
       "      <td>1.000000</td>\n",
       "      <td>3</td>\n",
       "      <td>4</td>\n",
       "      <td>17</td>\n",
       "      <td>0.05</td>\n",
       "      <td>1</td>\n",
       "      <td>0</td>\n",
       "      <td>1</td>\n",
       "      <td>2</td>\n",
       "    </tr>\n",
       "    <tr>\n",
       "      <th>79670</th>\n",
       "      <td>2</td>\n",
       "      <td>1</td>\n",
       "      <td>3</td>\n",
       "      <td>1</td>\n",
       "      <td>0.410959</td>\n",
       "      <td>3</td>\n",
       "      <td>4</td>\n",
       "      <td>18</td>\n",
       "      <td>1.76</td>\n",
       "      <td>1</td>\n",
       "      <td>1</td>\n",
       "      <td>3</td>\n",
       "      <td>2</td>\n",
       "    </tr>\n",
       "    <tr>\n",
       "      <th>79671</th>\n",
       "      <td>2</td>\n",
       "      <td>2</td>\n",
       "      <td>3</td>\n",
       "      <td>3</td>\n",
       "      <td>10.000000</td>\n",
       "      <td>3</td>\n",
       "      <td>4</td>\n",
       "      <td>18</td>\n",
       "      <td>0.81</td>\n",
       "      <td>1</td>\n",
       "      <td>0</td>\n",
       "      <td>1</td>\n",
       "      <td>2</td>\n",
       "    </tr>\n",
       "  </tbody>\n",
       "</table>\n",
       "<p>79672 rows × 13 columns</p>\n",
       "</div>"
      ],
      "text/plain": [
       "       animal_type  intake_condition  intake_type  sex_upon_intake  \\\n",
       "0                2                 1            3                2   \n",
       "1                2                 1            2                2   \n",
       "2                2                 1            2                2   \n",
       "3                2                 1            1                2   \n",
       "4                2                 0            2                2   \n",
       "...            ...               ...          ...              ...   \n",
       "79667            1                 1            3                4   \n",
       "79668            3                 1            4                4   \n",
       "79669            3                 1            4                4   \n",
       "79670            2                 1            3                1   \n",
       "79671            2                 2            3                3   \n",
       "\n",
       "       age_upon_intake_(years)  intake_month  intake_weekday  intake_hour  \\\n",
       "0                    10.000000            12               4           14   \n",
       "1                     7.000000            12               0           10   \n",
       "2                     6.000000             3               0           14   \n",
       "3                    10.000000             4               6           15   \n",
       "4                    16.000000            11               2            9   \n",
       "...                        ...           ...             ...          ...   \n",
       "79667                 0.038356             3               4           16   \n",
       "79668                 2.000000             3               4           17   \n",
       "79669                 1.000000             3               4           17   \n",
       "79670                 0.410959             3               4           18   \n",
       "79671                10.000000             3               4           18   \n",
       "\n",
       "       time_in_shelter_days  is_mix  animal_has_multicolor_fur  outcome_type  \\\n",
       "0                      0.59       1                          1             3   \n",
       "1                      1.26       1                          1             3   \n",
       "2                      1.11       1                          1             3   \n",
       "3                      4.97       0                          0             4   \n",
       "4                      0.12       0                          1             3   \n",
       "...                     ...     ...                        ...           ...   \n",
       "79667                  0.08       1                          0             4   \n",
       "79668                  0.05       1                          0             1   \n",
       "79669                  0.05       1                          0             1   \n",
       "79670                  1.76       1                          1             3   \n",
       "79671                  0.81       1                          0             1   \n",
       "\n",
       "       time_of_day_of_intake  \n",
       "0                          0  \n",
       "1                          3  \n",
       "2                          0  \n",
       "3                          0  \n",
       "4                          3  \n",
       "...                      ...  \n",
       "79667                      0  \n",
       "79668                      2  \n",
       "79669                      2  \n",
       "79670                      2  \n",
       "79671                      2  \n",
       "\n",
       "[79672 rows x 13 columns]"
      ]
     },
     "execution_count": 66,
     "metadata": {},
     "output_type": "execute_result"
    }
   ],
   "source": [
    "le_enc_new"
   ]
  },
  {
   "cell_type": "code",
   "execution_count": 77,
   "metadata": {},
   "outputs": [
    {
     "name": "stdout",
     "output_type": "stream",
     "text": [
      "animal_type ==> [2 1 3 0]\n",
      "intake_condition ==> [1 0 2 3]\n",
      "intake_type ==> [3 2 1 0 4]\n",
      "sex_upon_intake ==> [2 3 0 1 4]\n",
      "intake_weekday ==> [4 0 6 2 1 5 3]\n",
      "is_mix ==> [1 0]\n",
      "animal_has_multicolor_fur ==> [1 0]\n",
      "outcome_type ==> [3 4 0 1 2]\n",
      "time_of_day_of_intake ==> [0 3 2 1 4]\n"
     ]
    }
   ],
   "source": [
    "for i in le_enc_new.columns:\n",
    "    if df[i].dtypes == object:\n",
    "        print(i, \"==>\", le_enc_new[i].unique())"
   ]
  },
  {
   "cell_type": "code",
   "execution_count": 80,
   "metadata": {},
   "outputs": [],
   "source": [
    "# le_enc_new.columns"
   ]
  },
  {
   "cell_type": "code",
   "execution_count": 79,
   "metadata": {},
   "outputs": [],
   "source": [
    "df_orig = df[le_enc_new.columns]"
   ]
  },
  {
   "cell_type": "code",
   "execution_count": 75,
   "metadata": {},
   "outputs": [
    {
     "name": "stdout",
     "output_type": "stream",
     "text": [
      "animal_type ==> ['Dog' 'Cat' 'Other' 'Bird']\n",
      "intake_condition ==> ['Normal' 'Injured' 'Other' 'Sick']\n",
      "intake_type ==> ['Stray' 'Public Assist' 'Owner Surrender' 'Euthanasia Request' 'Wildlife']\n",
      "sex_upon_intake ==> ['Neutered Male' 'Spayed Female' 'Intact Female' 'Intact Male' 'Unknown']\n",
      "intake_weekday ==> ['Thursday' 'Friday' 'Wednesday' 'Saturday' 'Monday' 'Tuesday' 'Sunday']\n",
      "is_mix ==> ['Yes' 'No']\n",
      "animal_has_multicolor_fur ==> ['Yes' 'No']\n",
      "outcome_type ==> ['Return to Owner' 'Transfer' 'Adoption' 'Euthanasia' 'Other']\n",
      "time_of_day_of_intake ==> ['Afternoon' 'Late morning' 'Evening' 'Early morning' 'Night-time']\n"
     ]
    }
   ],
   "source": [
    "for i in df_orig:\n",
    "    if df_orig[i].dtypes == object:\n",
    "        print(i, \"==>\", df_orig[i].unique())"
   ]
  },
  {
   "cell_type": "markdown",
   "metadata": {},
   "source": [
    "## Encodings\n",
    "\n",
    "```\n",
    "animal_type ==> [2 1 3 0]\n",
    "intake_condition ==> [1 0 2 3]\n",
    "intake_type ==> [3 2 1 0 4]\n",
    "sex_upon_intake ==> [2 3 0 1 4]\n",
    "intake_weekday ==> [4 0 6 2 1 5 3]\n",
    "is_mix ==> [1 0]\n",
    "animal_has_multicolor_fur ==> [1 0]\n",
    "outcome_type ==> [3 4 0 1 2]\n",
    "time_of_day_of_intake ==> [0 3 2 1 4]\n",
    "```\n",
    "\n",
    "```\n",
    "animal_type ==> ['Dog' 'Cat' 'Other' 'Bird']\n",
    "intake_condition ==> ['Normal' 'Injured' 'Other' 'Sick']\n",
    "intake_type ==> ['Stray' 'Public Assist' 'Owner Surrender' 'Euthanasia Request' 'Wildlife']\n",
    "sex_upon_intake ==> ['Neutered Male' 'Spayed Female' 'Intact Female' 'Intact Male' 'Unknown']\n",
    "intake_weekday ==> ['Thursday' 'Friday' 'Wednesday' 'Saturday' 'Monday' 'Tuesday' 'Sunday']\n",
    "is_mix ==> ['Yes' 'No']\n",
    "animal_has_multicolor_fur ==> ['Yes' 'No']\n",
    "outcome_type ==> ['Return to Owner' 'Transfer' 'Adoption' 'Euthanasia' 'Other']\n",
    "time_of_day_of_intake ==> ['Afternoon' 'Late morning' 'Evening' 'Early morning' 'Night-time']\n",
    "```"
   ]
  },
  {
   "cell_type": "code",
   "execution_count": 83,
   "metadata": {},
   "outputs": [],
   "source": [
    "X, y = le_enc_new.loc[:, ~le_enc_new.columns.isin([\"outcome_type\"])], le_enc_new[\"outcome_type\"]\n",
    "\n",
    "X_train, X_test, y_train, y_test = train_test_split(X, y, test_size=0.2, random_state=42)"
   ]
  },
  {
   "cell_type": "markdown",
   "metadata": {},
   "source": [
    "### Random forest classifier"
   ]
  },
  {
   "cell_type": "code",
   "execution_count": 84,
   "metadata": {},
   "outputs": [],
   "source": [
    "rfc.fit(X_train, y_train)\n",
    "y_pred = rfc.predict(X_test)"
   ]
  },
  {
   "cell_type": "code",
   "execution_count": 85,
   "metadata": {},
   "outputs": [
    {
     "name": "stdout",
     "output_type": "stream",
     "text": [
      "              precision    recall  f1-score   support\n",
      "\n",
      "           0       0.74      0.91      0.81      6638\n",
      "           1       0.82      0.69      0.75      1201\n",
      "           2       0.66      0.12      0.20       272\n",
      "           3       0.87      0.80      0.83      2985\n",
      "           4       0.77      0.63      0.69      4839\n",
      "\n",
      "    accuracy                           0.77     15935\n",
      "   macro avg       0.77      0.63      0.66     15935\n",
      "weighted avg       0.78      0.77      0.77     15935\n",
      "\n"
     ]
    }
   ],
   "source": [
    "print(classification_report(y_test, y_pred))"
   ]
  },
  {
   "cell_type": "code",
   "execution_count": 86,
   "metadata": {},
   "outputs": [
    {
     "name": "stdout",
     "output_type": "stream",
     "text": [
      "0.7732663947285848\n"
     ]
    }
   ],
   "source": [
    "print(accuracy_score(y_test, y_pred)) # test accuracy"
   ]
  },
  {
   "cell_type": "code",
   "execution_count": 88,
   "metadata": {},
   "outputs": [],
   "source": [
    "y_pred_train = rfc.predict(X_train)"
   ]
  },
  {
   "cell_type": "code",
   "execution_count": 89,
   "metadata": {},
   "outputs": [
    {
     "name": "stdout",
     "output_type": "stream",
     "text": [
      "0.9995606947299057\n"
     ]
    }
   ],
   "source": [
    "print(accuracy_score(y_train, y_pred_train))"
   ]
  },
  {
   "cell_type": "markdown",
   "metadata": {},
   "source": [
    "#### The model above seems to be overfit, trying to fit again with GridSearchCV"
   ]
  },
  {
   "cell_type": "code",
   "execution_count": 91,
   "metadata": {},
   "outputs": [
    {
     "ename": "KeyboardInterrupt",
     "evalue": "",
     "output_type": "error",
     "traceback": [
      "\u001b[0;31m---------------------------------------------------------------------------\u001b[0m",
      "\u001b[0;31mKeyboardInterrupt\u001b[0m                         Traceback (most recent call last)",
      "Cell \u001b[0;32mIn[91], line 23\u001b[0m\n\u001b[1;32m     20\u001b[0m grid_search \u001b[38;5;241m=\u001b[39m GridSearchCV(estimator\u001b[38;5;241m=\u001b[39mrf, param_grid\u001b[38;5;241m=\u001b[39mparam_grid, cv\u001b[38;5;241m=\u001b[39m\u001b[38;5;241m3\u001b[39m, n_jobs\u001b[38;5;241m=\u001b[39m\u001b[38;5;241m-\u001b[39m\u001b[38;5;241m1\u001b[39m)\n\u001b[1;32m     22\u001b[0m \u001b[38;5;66;03m# Fit the grid search to the data\u001b[39;00m\n\u001b[0;32m---> 23\u001b[0m \u001b[43mgrid_search\u001b[49m\u001b[38;5;241;43m.\u001b[39;49m\u001b[43mfit\u001b[49m\u001b[43m(\u001b[49m\u001b[43mX_train\u001b[49m\u001b[43m,\u001b[49m\u001b[43m \u001b[49m\u001b[43my_train\u001b[49m\u001b[43m)\u001b[49m\n\u001b[1;32m     25\u001b[0m \u001b[38;5;66;03m# Best parameters and model\u001b[39;00m\n\u001b[1;32m     26\u001b[0m best_rf \u001b[38;5;241m=\u001b[39m grid_search\u001b[38;5;241m.\u001b[39mbest_estimator_\n",
      "File \u001b[0;32m~/Desktop/Personal Projects/AnimalShelterProject/venv/lib/python3.11/site-packages/sklearn/base.py:1474\u001b[0m, in \u001b[0;36m_fit_context.<locals>.decorator.<locals>.wrapper\u001b[0;34m(estimator, *args, **kwargs)\u001b[0m\n\u001b[1;32m   1467\u001b[0m     estimator\u001b[38;5;241m.\u001b[39m_validate_params()\n\u001b[1;32m   1469\u001b[0m \u001b[38;5;28;01mwith\u001b[39;00m config_context(\n\u001b[1;32m   1470\u001b[0m     skip_parameter_validation\u001b[38;5;241m=\u001b[39m(\n\u001b[1;32m   1471\u001b[0m         prefer_skip_nested_validation \u001b[38;5;129;01mor\u001b[39;00m global_skip_validation\n\u001b[1;32m   1472\u001b[0m     )\n\u001b[1;32m   1473\u001b[0m ):\n\u001b[0;32m-> 1474\u001b[0m     \u001b[38;5;28;01mreturn\u001b[39;00m \u001b[43mfit_method\u001b[49m\u001b[43m(\u001b[49m\u001b[43mestimator\u001b[49m\u001b[43m,\u001b[49m\u001b[43m \u001b[49m\u001b[38;5;241;43m*\u001b[39;49m\u001b[43margs\u001b[49m\u001b[43m,\u001b[49m\u001b[43m \u001b[49m\u001b[38;5;241;43m*\u001b[39;49m\u001b[38;5;241;43m*\u001b[39;49m\u001b[43mkwargs\u001b[49m\u001b[43m)\u001b[49m\n",
      "File \u001b[0;32m~/Desktop/Personal Projects/AnimalShelterProject/venv/lib/python3.11/site-packages/sklearn/model_selection/_search.py:970\u001b[0m, in \u001b[0;36mBaseSearchCV.fit\u001b[0;34m(self, X, y, **params)\u001b[0m\n\u001b[1;32m    964\u001b[0m     results \u001b[38;5;241m=\u001b[39m \u001b[38;5;28mself\u001b[39m\u001b[38;5;241m.\u001b[39m_format_results(\n\u001b[1;32m    965\u001b[0m         all_candidate_params, n_splits, all_out, all_more_results\n\u001b[1;32m    966\u001b[0m     )\n\u001b[1;32m    968\u001b[0m     \u001b[38;5;28;01mreturn\u001b[39;00m results\n\u001b[0;32m--> 970\u001b[0m \u001b[38;5;28;43mself\u001b[39;49m\u001b[38;5;241;43m.\u001b[39;49m\u001b[43m_run_search\u001b[49m\u001b[43m(\u001b[49m\u001b[43mevaluate_candidates\u001b[49m\u001b[43m)\u001b[49m\n\u001b[1;32m    972\u001b[0m \u001b[38;5;66;03m# multimetric is determined here because in the case of a callable\u001b[39;00m\n\u001b[1;32m    973\u001b[0m \u001b[38;5;66;03m# self.scoring the return type is only known after calling\u001b[39;00m\n\u001b[1;32m    974\u001b[0m first_test_score \u001b[38;5;241m=\u001b[39m all_out[\u001b[38;5;241m0\u001b[39m][\u001b[38;5;124m\"\u001b[39m\u001b[38;5;124mtest_scores\u001b[39m\u001b[38;5;124m\"\u001b[39m]\n",
      "File \u001b[0;32m~/Desktop/Personal Projects/AnimalShelterProject/venv/lib/python3.11/site-packages/sklearn/model_selection/_search.py:1527\u001b[0m, in \u001b[0;36mGridSearchCV._run_search\u001b[0;34m(self, evaluate_candidates)\u001b[0m\n\u001b[1;32m   1525\u001b[0m \u001b[38;5;28;01mdef\u001b[39;00m \u001b[38;5;21m_run_search\u001b[39m(\u001b[38;5;28mself\u001b[39m, evaluate_candidates):\n\u001b[1;32m   1526\u001b[0m \u001b[38;5;250m    \u001b[39m\u001b[38;5;124;03m\"\"\"Search all candidates in param_grid\"\"\"\u001b[39;00m\n\u001b[0;32m-> 1527\u001b[0m     \u001b[43mevaluate_candidates\u001b[49m\u001b[43m(\u001b[49m\u001b[43mParameterGrid\u001b[49m\u001b[43m(\u001b[49m\u001b[38;5;28;43mself\u001b[39;49m\u001b[38;5;241;43m.\u001b[39;49m\u001b[43mparam_grid\u001b[49m\u001b[43m)\u001b[49m\u001b[43m)\u001b[49m\n",
      "File \u001b[0;32m~/Desktop/Personal Projects/AnimalShelterProject/venv/lib/python3.11/site-packages/sklearn/model_selection/_search.py:916\u001b[0m, in \u001b[0;36mBaseSearchCV.fit.<locals>.evaluate_candidates\u001b[0;34m(candidate_params, cv, more_results)\u001b[0m\n\u001b[1;32m    908\u001b[0m \u001b[38;5;28;01mif\u001b[39;00m \u001b[38;5;28mself\u001b[39m\u001b[38;5;241m.\u001b[39mverbose \u001b[38;5;241m>\u001b[39m \u001b[38;5;241m0\u001b[39m:\n\u001b[1;32m    909\u001b[0m     \u001b[38;5;28mprint\u001b[39m(\n\u001b[1;32m    910\u001b[0m         \u001b[38;5;124m\"\u001b[39m\u001b[38;5;124mFitting \u001b[39m\u001b[38;5;132;01m{0}\u001b[39;00m\u001b[38;5;124m folds for each of \u001b[39m\u001b[38;5;132;01m{1}\u001b[39;00m\u001b[38;5;124m candidates,\u001b[39m\u001b[38;5;124m\"\u001b[39m\n\u001b[1;32m    911\u001b[0m         \u001b[38;5;124m\"\u001b[39m\u001b[38;5;124m totalling \u001b[39m\u001b[38;5;132;01m{2}\u001b[39;00m\u001b[38;5;124m fits\u001b[39m\u001b[38;5;124m\"\u001b[39m\u001b[38;5;241m.\u001b[39mformat(\n\u001b[1;32m    912\u001b[0m             n_splits, n_candidates, n_candidates \u001b[38;5;241m*\u001b[39m n_splits\n\u001b[1;32m    913\u001b[0m         )\n\u001b[1;32m    914\u001b[0m     )\n\u001b[0;32m--> 916\u001b[0m out \u001b[38;5;241m=\u001b[39m \u001b[43mparallel\u001b[49m\u001b[43m(\u001b[49m\n\u001b[1;32m    917\u001b[0m \u001b[43m    \u001b[49m\u001b[43mdelayed\u001b[49m\u001b[43m(\u001b[49m\u001b[43m_fit_and_score\u001b[49m\u001b[43m)\u001b[49m\u001b[43m(\u001b[49m\n\u001b[1;32m    918\u001b[0m \u001b[43m        \u001b[49m\u001b[43mclone\u001b[49m\u001b[43m(\u001b[49m\u001b[43mbase_estimator\u001b[49m\u001b[43m)\u001b[49m\u001b[43m,\u001b[49m\n\u001b[1;32m    919\u001b[0m \u001b[43m        \u001b[49m\u001b[43mX\u001b[49m\u001b[43m,\u001b[49m\n\u001b[1;32m    920\u001b[0m \u001b[43m        \u001b[49m\u001b[43my\u001b[49m\u001b[43m,\u001b[49m\n\u001b[1;32m    921\u001b[0m \u001b[43m        \u001b[49m\u001b[43mtrain\u001b[49m\u001b[38;5;241;43m=\u001b[39;49m\u001b[43mtrain\u001b[49m\u001b[43m,\u001b[49m\n\u001b[1;32m    922\u001b[0m \u001b[43m        \u001b[49m\u001b[43mtest\u001b[49m\u001b[38;5;241;43m=\u001b[39;49m\u001b[43mtest\u001b[49m\u001b[43m,\u001b[49m\n\u001b[1;32m    923\u001b[0m \u001b[43m        \u001b[49m\u001b[43mparameters\u001b[49m\u001b[38;5;241;43m=\u001b[39;49m\u001b[43mparameters\u001b[49m\u001b[43m,\u001b[49m\n\u001b[1;32m    924\u001b[0m \u001b[43m        \u001b[49m\u001b[43msplit_progress\u001b[49m\u001b[38;5;241;43m=\u001b[39;49m\u001b[43m(\u001b[49m\u001b[43msplit_idx\u001b[49m\u001b[43m,\u001b[49m\u001b[43m \u001b[49m\u001b[43mn_splits\u001b[49m\u001b[43m)\u001b[49m\u001b[43m,\u001b[49m\n\u001b[1;32m    925\u001b[0m \u001b[43m        \u001b[49m\u001b[43mcandidate_progress\u001b[49m\u001b[38;5;241;43m=\u001b[39;49m\u001b[43m(\u001b[49m\u001b[43mcand_idx\u001b[49m\u001b[43m,\u001b[49m\u001b[43m \u001b[49m\u001b[43mn_candidates\u001b[49m\u001b[43m)\u001b[49m\u001b[43m,\u001b[49m\n\u001b[1;32m    926\u001b[0m \u001b[43m        \u001b[49m\u001b[38;5;241;43m*\u001b[39;49m\u001b[38;5;241;43m*\u001b[39;49m\u001b[43mfit_and_score_kwargs\u001b[49m\u001b[43m,\u001b[49m\n\u001b[1;32m    927\u001b[0m \u001b[43m    \u001b[49m\u001b[43m)\u001b[49m\n\u001b[1;32m    928\u001b[0m \u001b[43m    \u001b[49m\u001b[38;5;28;43;01mfor\u001b[39;49;00m\u001b[43m \u001b[49m\u001b[43m(\u001b[49m\u001b[43mcand_idx\u001b[49m\u001b[43m,\u001b[49m\u001b[43m \u001b[49m\u001b[43mparameters\u001b[49m\u001b[43m)\u001b[49m\u001b[43m,\u001b[49m\u001b[43m \u001b[49m\u001b[43m(\u001b[49m\u001b[43msplit_idx\u001b[49m\u001b[43m,\u001b[49m\u001b[43m \u001b[49m\u001b[43m(\u001b[49m\u001b[43mtrain\u001b[49m\u001b[43m,\u001b[49m\u001b[43m \u001b[49m\u001b[43mtest\u001b[49m\u001b[43m)\u001b[49m\u001b[43m)\u001b[49m\u001b[43m \u001b[49m\u001b[38;5;129;43;01min\u001b[39;49;00m\u001b[43m \u001b[49m\u001b[43mproduct\u001b[49m\u001b[43m(\u001b[49m\n\u001b[1;32m    929\u001b[0m \u001b[43m        \u001b[49m\u001b[38;5;28;43menumerate\u001b[39;49m\u001b[43m(\u001b[49m\u001b[43mcandidate_params\u001b[49m\u001b[43m)\u001b[49m\u001b[43m,\u001b[49m\n\u001b[1;32m    930\u001b[0m \u001b[43m        \u001b[49m\u001b[38;5;28;43menumerate\u001b[39;49m\u001b[43m(\u001b[49m\u001b[43mcv\u001b[49m\u001b[38;5;241;43m.\u001b[39;49m\u001b[43msplit\u001b[49m\u001b[43m(\u001b[49m\u001b[43mX\u001b[49m\u001b[43m,\u001b[49m\u001b[43m \u001b[49m\u001b[43my\u001b[49m\u001b[43m,\u001b[49m\u001b[43m \u001b[49m\u001b[38;5;241;43m*\u001b[39;49m\u001b[38;5;241;43m*\u001b[39;49m\u001b[43mrouted_params\u001b[49m\u001b[38;5;241;43m.\u001b[39;49m\u001b[43msplitter\u001b[49m\u001b[38;5;241;43m.\u001b[39;49m\u001b[43msplit\u001b[49m\u001b[43m)\u001b[49m\u001b[43m)\u001b[49m\u001b[43m,\u001b[49m\n\u001b[1;32m    931\u001b[0m \u001b[43m    \u001b[49m\u001b[43m)\u001b[49m\n\u001b[1;32m    932\u001b[0m \u001b[43m\u001b[49m\u001b[43m)\u001b[49m\n\u001b[1;32m    934\u001b[0m \u001b[38;5;28;01mif\u001b[39;00m \u001b[38;5;28mlen\u001b[39m(out) \u001b[38;5;241m<\u001b[39m \u001b[38;5;241m1\u001b[39m:\n\u001b[1;32m    935\u001b[0m     \u001b[38;5;28;01mraise\u001b[39;00m \u001b[38;5;167;01mValueError\u001b[39;00m(\n\u001b[1;32m    936\u001b[0m         \u001b[38;5;124m\"\u001b[39m\u001b[38;5;124mNo fits were performed. \u001b[39m\u001b[38;5;124m\"\u001b[39m\n\u001b[1;32m    937\u001b[0m         \u001b[38;5;124m\"\u001b[39m\u001b[38;5;124mWas the CV iterator empty? \u001b[39m\u001b[38;5;124m\"\u001b[39m\n\u001b[1;32m    938\u001b[0m         \u001b[38;5;124m\"\u001b[39m\u001b[38;5;124mWere there no candidates?\u001b[39m\u001b[38;5;124m\"\u001b[39m\n\u001b[1;32m    939\u001b[0m     )\n",
      "File \u001b[0;32m~/Desktop/Personal Projects/AnimalShelterProject/venv/lib/python3.11/site-packages/sklearn/utils/parallel.py:67\u001b[0m, in \u001b[0;36mParallel.__call__\u001b[0;34m(self, iterable)\u001b[0m\n\u001b[1;32m     62\u001b[0m config \u001b[38;5;241m=\u001b[39m get_config()\n\u001b[1;32m     63\u001b[0m iterable_with_config \u001b[38;5;241m=\u001b[39m (\n\u001b[1;32m     64\u001b[0m     (_with_config(delayed_func, config), args, kwargs)\n\u001b[1;32m     65\u001b[0m     \u001b[38;5;28;01mfor\u001b[39;00m delayed_func, args, kwargs \u001b[38;5;129;01min\u001b[39;00m iterable\n\u001b[1;32m     66\u001b[0m )\n\u001b[0;32m---> 67\u001b[0m \u001b[38;5;28;01mreturn\u001b[39;00m \u001b[38;5;28;43msuper\u001b[39;49m\u001b[43m(\u001b[49m\u001b[43m)\u001b[49m\u001b[38;5;241;43m.\u001b[39;49m\u001b[38;5;21;43m__call__\u001b[39;49m\u001b[43m(\u001b[49m\u001b[43miterable_with_config\u001b[49m\u001b[43m)\u001b[49m\n",
      "File \u001b[0;32m~/Desktop/Personal Projects/AnimalShelterProject/venv/lib/python3.11/site-packages/joblib/parallel.py:1952\u001b[0m, in \u001b[0;36mParallel.__call__\u001b[0;34m(self, iterable)\u001b[0m\n\u001b[1;32m   1946\u001b[0m \u001b[38;5;66;03m# The first item from the output is blank, but it makes the interpreter\u001b[39;00m\n\u001b[1;32m   1947\u001b[0m \u001b[38;5;66;03m# progress until it enters the Try/Except block of the generator and\u001b[39;00m\n\u001b[1;32m   1948\u001b[0m \u001b[38;5;66;03m# reach the first `yield` statement. This starts the aynchronous\u001b[39;00m\n\u001b[1;32m   1949\u001b[0m \u001b[38;5;66;03m# dispatch of the tasks to the workers.\u001b[39;00m\n\u001b[1;32m   1950\u001b[0m \u001b[38;5;28mnext\u001b[39m(output)\n\u001b[0;32m-> 1952\u001b[0m \u001b[38;5;28;01mreturn\u001b[39;00m output \u001b[38;5;28;01mif\u001b[39;00m \u001b[38;5;28mself\u001b[39m\u001b[38;5;241m.\u001b[39mreturn_generator \u001b[38;5;28;01melse\u001b[39;00m \u001b[38;5;28mlist\u001b[39m(output)\n",
      "File \u001b[0;32m~/Desktop/Personal Projects/AnimalShelterProject/venv/lib/python3.11/site-packages/joblib/parallel.py:1595\u001b[0m, in \u001b[0;36mParallel._get_outputs\u001b[0;34m(self, iterator, pre_dispatch)\u001b[0m\n\u001b[1;32m   1592\u001b[0m     \u001b[38;5;28;01myield\u001b[39;00m\n\u001b[1;32m   1594\u001b[0m     \u001b[38;5;28;01mwith\u001b[39;00m \u001b[38;5;28mself\u001b[39m\u001b[38;5;241m.\u001b[39m_backend\u001b[38;5;241m.\u001b[39mretrieval_context():\n\u001b[0;32m-> 1595\u001b[0m         \u001b[38;5;28;01myield from\u001b[39;00m \u001b[38;5;28mself\u001b[39m\u001b[38;5;241m.\u001b[39m_retrieve()\n\u001b[1;32m   1597\u001b[0m \u001b[38;5;28;01mexcept\u001b[39;00m \u001b[38;5;167;01mGeneratorExit\u001b[39;00m:\n\u001b[1;32m   1598\u001b[0m     \u001b[38;5;66;03m# The generator has been garbage collected before being fully\u001b[39;00m\n\u001b[1;32m   1599\u001b[0m     \u001b[38;5;66;03m# consumed. This aborts the remaining tasks if possible and warn\u001b[39;00m\n\u001b[1;32m   1600\u001b[0m     \u001b[38;5;66;03m# the user if necessary.\u001b[39;00m\n\u001b[1;32m   1601\u001b[0m     \u001b[38;5;28mself\u001b[39m\u001b[38;5;241m.\u001b[39m_exception \u001b[38;5;241m=\u001b[39m \u001b[38;5;28;01mTrue\u001b[39;00m\n",
      "File \u001b[0;32m~/Desktop/Personal Projects/AnimalShelterProject/venv/lib/python3.11/site-packages/joblib/parallel.py:1707\u001b[0m, in \u001b[0;36mParallel._retrieve\u001b[0;34m(self)\u001b[0m\n\u001b[1;32m   1702\u001b[0m \u001b[38;5;66;03m# If the next job is not ready for retrieval yet, we just wait for\u001b[39;00m\n\u001b[1;32m   1703\u001b[0m \u001b[38;5;66;03m# async callbacks to progress.\u001b[39;00m\n\u001b[1;32m   1704\u001b[0m \u001b[38;5;28;01mif\u001b[39;00m ((\u001b[38;5;28mlen\u001b[39m(\u001b[38;5;28mself\u001b[39m\u001b[38;5;241m.\u001b[39m_jobs) \u001b[38;5;241m==\u001b[39m \u001b[38;5;241m0\u001b[39m) \u001b[38;5;129;01mor\u001b[39;00m\n\u001b[1;32m   1705\u001b[0m     (\u001b[38;5;28mself\u001b[39m\u001b[38;5;241m.\u001b[39m_jobs[\u001b[38;5;241m0\u001b[39m]\u001b[38;5;241m.\u001b[39mget_status(\n\u001b[1;32m   1706\u001b[0m         timeout\u001b[38;5;241m=\u001b[39m\u001b[38;5;28mself\u001b[39m\u001b[38;5;241m.\u001b[39mtimeout) \u001b[38;5;241m==\u001b[39m TASK_PENDING)):\n\u001b[0;32m-> 1707\u001b[0m     time\u001b[38;5;241m.\u001b[39msleep(\u001b[38;5;241m0.01\u001b[39m)\n\u001b[1;32m   1708\u001b[0m     \u001b[38;5;28;01mcontinue\u001b[39;00m\n\u001b[1;32m   1710\u001b[0m \u001b[38;5;66;03m# We need to be careful: the job list can be filling up as\u001b[39;00m\n\u001b[1;32m   1711\u001b[0m \u001b[38;5;66;03m# we empty it and Python list are not thread-safe by\u001b[39;00m\n\u001b[1;32m   1712\u001b[0m \u001b[38;5;66;03m# default hence the use of the lock\u001b[39;00m\n",
      "\u001b[0;31mKeyboardInterrupt\u001b[0m: "
     ]
    }
   ],
   "source": [
    "from sklearn.ensemble import RandomForestClassifier\n",
    "from sklearn.model_selection import train_test_split, GridSearchCV\n",
    "\n",
    "# Example data\n",
    "X_train, X_test, y_train, y_test = train_test_split(X, y, test_size=0.2, random_state=42)\n",
    "\n",
    "# Setting up the parameter grid\n",
    "param_grid = {\n",
    "    'n_estimators': [100, 200, 300],\n",
    "    'max_depth': [10, 15, 20, None],\n",
    "    'min_samples_split': [2, 5, 10],\n",
    "    'min_samples_leaf': [1, 2, 4],\n",
    "    'max_features': ['sqrt', 'log2', None]\n",
    "}\n",
    "\n",
    "# Initialize the RandomForestClassifier\n",
    "rf = RandomForestClassifier(random_state=42)\n",
    "\n",
    "# Initialize the GridSearchCV object\n",
    "grid_search = GridSearchCV(estimator=rf, param_grid=param_grid, cv=3, n_jobs=-1)\n",
    "\n",
    "# Fit the grid search to the data\n",
    "grid_search.fit(X_train, y_train)\n",
    "\n",
    "# Best parameters and model\n",
    "best_rf = grid_search.best_estimator_\n",
    "\n",
    "# Evaluate on the test set\n",
    "test_accuracy = best_rf.score(X_test, y_test)\n",
    "\n",
    "print(f\"Best Parameters: {grid_search.best_params_}\")\n",
    "print(f\"Test Accuracy: {test_accuracy:.2f}\")"
   ]
  },
  {
   "cell_type": "markdown",
   "metadata": {},
   "source": [
    "### K-Nearest Neighbor"
   ]
  },
  {
   "cell_type": "code",
   "execution_count": 421,
   "metadata": {},
   "outputs": [],
   "source": [
    "knn.fit(X_train, y_train)\n",
    "y_pred_1 = knn.predict(X_test)"
   ]
  },
  {
   "cell_type": "code",
   "execution_count": 422,
   "metadata": {},
   "outputs": [
    {
     "name": "stdout",
     "output_type": "stream",
     "text": [
      "              precision    recall  f1-score   support\n",
      "\n",
      "           0       0.68      0.86      0.76      6638\n",
      "           1       0.77      0.51      0.62      1201\n",
      "           2       0.48      0.08      0.13       272\n",
      "           3       0.70      0.70      0.70      2985\n",
      "           4       0.69      0.53      0.60      4839\n",
      "\n",
      "    accuracy                           0.69     15935\n",
      "   macro avg       0.66      0.53      0.56     15935\n",
      "weighted avg       0.69      0.69      0.68     15935\n",
      "\n"
     ]
    }
   ],
   "source": [
    "print(classification_report(y_test, y_pred_1))"
   ]
  },
  {
   "cell_type": "code",
   "execution_count": 423,
   "metadata": {},
   "outputs": [
    {
     "name": "stdout",
     "output_type": "stream",
     "text": [
      "0.6877314088484469\n"
     ]
    }
   ],
   "source": [
    "print(accuracy_score(y_test, y_pred_1))"
   ]
  },
  {
   "cell_type": "markdown",
   "metadata": {},
   "source": [
    "### Xgboost"
   ]
  },
  {
   "cell_type": "code",
   "execution_count": 424,
   "metadata": {},
   "outputs": [],
   "source": [
    "xgb.fit(X_train, y_train)\n",
    "y_pred_2 = xgb.predict(X_test)"
   ]
  },
  {
   "cell_type": "code",
   "execution_count": 425,
   "metadata": {},
   "outputs": [
    {
     "name": "stdout",
     "output_type": "stream",
     "text": [
      "              precision    recall  f1-score   support\n",
      "\n",
      "           0       0.73      0.93      0.82      6638\n",
      "           1       0.82      0.69      0.75      1201\n",
      "           2       0.62      0.11      0.19       272\n",
      "           3       0.87      0.78      0.83      2985\n",
      "           4       0.78      0.61      0.68      4839\n",
      "\n",
      "    accuracy                           0.77     15935\n",
      "   macro avg       0.77      0.62      0.65     15935\n",
      "weighted avg       0.78      0.77      0.76     15935\n",
      "\n"
     ]
    }
   ],
   "source": [
    "print(classification_report(y_test, y_pred_2))"
   ]
  },
  {
   "cell_type": "code",
   "execution_count": 426,
   "metadata": {},
   "outputs": [
    {
     "name": "stdout",
     "output_type": "stream",
     "text": [
      "0.7715092563539379\n"
     ]
    }
   ],
   "source": [
    "print(accuracy_score(y_test, y_pred_2))"
   ]
  },
  {
   "cell_type": "markdown",
   "metadata": {},
   "source": [
    "### Feature selection on the current subset using Chi-square test"
   ]
  },
  {
   "cell_type": "code",
   "execution_count": 427,
   "metadata": {},
   "outputs": [
    {
     "data": {
      "text/html": [
       "<div>\n",
       "<style scoped>\n",
       "    .dataframe tbody tr th:only-of-type {\n",
       "        vertical-align: middle;\n",
       "    }\n",
       "\n",
       "    .dataframe tbody tr th {\n",
       "        vertical-align: top;\n",
       "    }\n",
       "\n",
       "    .dataframe thead th {\n",
       "        text-align: right;\n",
       "    }\n",
       "</style>\n",
       "<table border=\"1\" class=\"dataframe\">\n",
       "  <thead>\n",
       "    <tr style=\"text-align: right;\">\n",
       "      <th></th>\n",
       "      <th>Features</th>\n",
       "      <th>Score</th>\n",
       "    </tr>\n",
       "  </thead>\n",
       "  <tbody>\n",
       "    <tr>\n",
       "      <th>8</th>\n",
       "      <td>time_in_shelter_days</td>\n",
       "      <td>573466.065695</td>\n",
       "    </tr>\n",
       "    <tr>\n",
       "      <th>4</th>\n",
       "      <td>age_upon_intake_(years)</td>\n",
       "      <td>30701.613606</td>\n",
       "    </tr>\n",
       "    <tr>\n",
       "      <th>3</th>\n",
       "      <td>sex_upon_intake</td>\n",
       "      <td>12735.065283</td>\n",
       "    </tr>\n",
       "    <tr>\n",
       "      <th>0</th>\n",
       "      <td>animal_type</td>\n",
       "      <td>2465.760153</td>\n",
       "    </tr>\n",
       "    <tr>\n",
       "      <th>2</th>\n",
       "      <td>intake_type</td>\n",
       "      <td>1168.322450</td>\n",
       "    </tr>\n",
       "    <tr>\n",
       "      <th>10</th>\n",
       "      <td>animal_has_multicolor_fur</td>\n",
       "      <td>625.168773</td>\n",
       "    </tr>\n",
       "    <tr>\n",
       "      <th>11</th>\n",
       "      <td>time_of_day_of_intake</td>\n",
       "      <td>349.521402</td>\n",
       "    </tr>\n",
       "    <tr>\n",
       "      <th>1</th>\n",
       "      <td>intake_condition</td>\n",
       "      <td>333.094266</td>\n",
       "    </tr>\n",
       "    <tr>\n",
       "      <th>5</th>\n",
       "      <td>intake_month</td>\n",
       "      <td>274.183296</td>\n",
       "    </tr>\n",
       "    <tr>\n",
       "      <th>9</th>\n",
       "      <td>is_mix</td>\n",
       "      <td>162.238252</td>\n",
       "    </tr>\n",
       "    <tr>\n",
       "      <th>7</th>\n",
       "      <td>intake_hour</td>\n",
       "      <td>104.168540</td>\n",
       "    </tr>\n",
       "    <tr>\n",
       "      <th>6</th>\n",
       "      <td>intake_weekday</td>\n",
       "      <td>13.406015</td>\n",
       "    </tr>\n",
       "  </tbody>\n",
       "</table>\n",
       "</div>"
      ],
      "text/plain": [
       "                     Features          Score\n",
       "8        time_in_shelter_days  573466.065695\n",
       "4     age_upon_intake_(years)   30701.613606\n",
       "3             sex_upon_intake   12735.065283\n",
       "0                 animal_type    2465.760153\n",
       "2                 intake_type    1168.322450\n",
       "10  animal_has_multicolor_fur     625.168773\n",
       "11      time_of_day_of_intake     349.521402\n",
       "1            intake_condition     333.094266\n",
       "5                intake_month     274.183296\n",
       "9                      is_mix     162.238252\n",
       "7                 intake_hour     104.168540\n",
       "6              intake_weekday      13.406015"
      ]
     },
     "execution_count": 427,
     "metadata": {},
     "output_type": "execute_result"
    }
   ],
   "source": [
    "from sklearn.feature_selection import SelectKBest, chi2\n",
    "\n",
    "best_feat = SelectKBest(score_func = chi2)\n",
    "fit = best_feat.fit(X, y)\n",
    "\n",
    "dfscores = pd.DataFrame(fit.scores_)\n",
    "dfcolumns = pd.DataFrame(X.columns)\n",
    "\n",
    "feat_scores = pd.concat([dfcolumns, dfscores], axis = 1)\n",
    "feat_scores.columns = ['Features', 'Score']\n",
    "\n",
    "feat_scores.sort_values(['Score'], ascending=False)"
   ]
  },
  {
   "cell_type": "code",
   "execution_count": 428,
   "metadata": {},
   "outputs": [],
   "source": [
    "X_train_new = X_train.drop(['intake_hour', 'intake_month', 'is_mix', 'intake_weekday'], axis=1) #dropping the last 4 columns "
   ]
  },
  {
   "cell_type": "code",
   "execution_count": 429,
   "metadata": {},
   "outputs": [],
   "source": [
    "X_test_new = X_test.drop(['intake_hour', 'intake_month', 'is_mix', 'intake_weekday'], axis=1) #dropping the last 4 columns "
   ]
  },
  {
   "cell_type": "markdown",
   "metadata": {},
   "source": [
    "## Fitting model with the new subset"
   ]
  },
  {
   "cell_type": "code",
   "execution_count": 430,
   "metadata": {},
   "outputs": [],
   "source": [
    "rfc_new = RandomForestClassifier()"
   ]
  },
  {
   "cell_type": "code",
   "execution_count": 431,
   "metadata": {},
   "outputs": [],
   "source": [
    "rfc_new.fit(X_train_new, y_train)\n",
    "y_pred_new = rfc_new.predict(X_test_new)"
   ]
  },
  {
   "cell_type": "code",
   "execution_count": 432,
   "metadata": {},
   "outputs": [
    {
     "name": "stdout",
     "output_type": "stream",
     "text": [
      "0.7226231565735801\n"
     ]
    }
   ],
   "source": [
    "print(accuracy_score(y_test, y_pred_new))"
   ]
  },
  {
   "cell_type": "code",
   "execution_count": 433,
   "metadata": {},
   "outputs": [
    {
     "name": "stdout",
     "output_type": "stream",
     "text": [
      "              precision    recall  f1-score   support\n",
      "\n",
      "           0       0.73      0.79      0.76      6638\n",
      "           1       0.74      0.68      0.71      1201\n",
      "           2       0.25      0.10      0.14       272\n",
      "           3       0.80      0.78      0.79      2985\n",
      "           4       0.67      0.64      0.65      4839\n",
      "\n",
      "    accuracy                           0.72     15935\n",
      "   macro avg       0.64      0.60      0.61     15935\n",
      "weighted avg       0.72      0.72      0.72     15935\n",
      "\n"
     ]
    }
   ],
   "source": [
    "print(classification_report(y_test, y_pred_new))"
   ]
  },
  {
   "cell_type": "markdown",
   "metadata": {},
   "source": [
    "### Trying again with top 5 features"
   ]
  },
  {
   "cell_type": "code",
   "execution_count": 436,
   "metadata": {},
   "outputs": [
    {
     "data": {
      "text/plain": [
       "array(['animal_type', 'intake_condition', 'intake_type',\n",
       "       'sex_upon_intake', 'age_upon_intake_(years)', 'intake_month',\n",
       "       'intake_weekday', 'intake_hour', 'time_in_shelter_days', 'is_mix',\n",
       "       'animal_has_multicolor_fur', 'time_of_day_of_intake'], dtype=object)"
      ]
     },
     "execution_count": 436,
     "metadata": {},
     "output_type": "execute_result"
    }
   ],
   "source": [
    "feat_scores[\"Features\"].unique()"
   ]
  },
  {
   "cell_type": "code",
   "execution_count": 441,
   "metadata": {},
   "outputs": [
    {
     "data": {
      "text/plain": [
       "['time_in_shelter_days',\n",
       " 'age_upon_intake_(years)',\n",
       " 'sex_upon_intake',\n",
       " 'animal_type',\n",
       " 'intake_type',\n",
       " 'animal_has_multicolor_fur',\n",
       " 'time_of_day_of_intake',\n",
       " 'intake_condition',\n",
       " 'intake_month',\n",
       " 'is_mix',\n",
       " 'intake_hour',\n",
       " 'intake_weekday']"
      ]
     },
     "execution_count": 441,
     "metadata": {},
     "output_type": "execute_result"
    }
   ],
   "source": [
    "feat_scores.sort_values(by=\"Score\", ascending=False)[\"Features\"].to_list()"
   ]
  },
  {
   "cell_type": "code",
   "execution_count": 442,
   "metadata": {},
   "outputs": [],
   "source": [
    "X_train_top5 = X_train[['time_in_shelter_days',\n",
    "                        'age_upon_intake_(years)',\n",
    "                        'sex_upon_intake',\n",
    "                        'animal_type',\n",
    "                        'intake_type']]\n",
    "\n",
    "X_test_top5 = X_test[['time_in_shelter_days',\n",
    "                        'age_upon_intake_(years)',\n",
    "                        'sex_upon_intake',\n",
    "                        'animal_type',\n",
    "                        'intake_type']]\n"
   ]
  },
  {
   "cell_type": "code",
   "execution_count": 443,
   "metadata": {},
   "outputs": [],
   "source": [
    "rfc_top5 = RandomForestClassifier()"
   ]
  },
  {
   "cell_type": "code",
   "execution_count": 444,
   "metadata": {},
   "outputs": [],
   "source": [
    "rfc_top5.fit(X_train_top5, y_train)\n",
    "y_pred_t5 = rfc_top5.predict(X_test_top5)"
   ]
  },
  {
   "cell_type": "code",
   "execution_count": 445,
   "metadata": {},
   "outputs": [
    {
     "name": "stdout",
     "output_type": "stream",
     "text": [
      "              precision    recall  f1-score   support\n",
      "\n",
      "           0       0.73      0.77      0.75      6638\n",
      "           1       0.70      0.66      0.68      1201\n",
      "           2       0.29      0.13      0.18       272\n",
      "           3       0.78      0.76      0.77      2985\n",
      "           4       0.64      0.63      0.64      4839\n",
      "\n",
      "    accuracy                           0.71     15935\n",
      "   macro avg       0.63      0.59      0.60     15935\n",
      "weighted avg       0.70      0.71      0.70     15935\n",
      "\n"
     ]
    }
   ],
   "source": [
    "print(classification_report(y_test, y_pred_t5))"
   ]
  },
  {
   "cell_type": "code",
   "execution_count": 446,
   "metadata": {},
   "outputs": [
    {
     "name": "stdout",
     "output_type": "stream",
     "text": [
      "0.7078757452149357\n"
     ]
    }
   ],
   "source": [
    "print(accuracy_score(y_test, y_pred_t5))"
   ]
  },
  {
   "cell_type": "markdown",
   "metadata": {},
   "source": [
    "#### We will retain the first version of the model i.e. 'rfc' but running K-fold to get the maximum possible accuracy that can be attained by this model"
   ]
  },
  {
   "cell_type": "code",
   "execution_count": 449,
   "metadata": {},
   "outputs": [],
   "source": [
    "from sklearn.model_selection import cross_val_score"
   ]
  },
  {
   "cell_type": "code",
   "execution_count": 450,
   "metadata": {},
   "outputs": [
    {
     "name": "stdout",
     "output_type": "stream",
     "text": [
      "Mean Accuracy: 0.7428082352096499\n"
     ]
    }
   ],
   "source": [
    "# Perform 5-fold cross-validation\n",
    "scores = cross_val_score(rfc, X, y, cv=5)\n",
    "\n",
    "# Calculate the mean accuracy\n",
    "mean_accuracy = scores.mean()\n",
    "\n",
    "print(\"Mean Accuracy:\", mean_accuracy)"
   ]
  },
  {
   "cell_type": "code",
   "execution_count": 451,
   "metadata": {},
   "outputs": [
    {
     "data": {
      "text/plain": [
       "array([0.72036398, 0.74753687, 0.74017824, 0.75216518, 0.75379691])"
      ]
     },
     "execution_count": 451,
     "metadata": {},
     "output_type": "execute_result"
    }
   ],
   "source": [
    "scores"
   ]
  },
  {
   "cell_type": "markdown",
   "metadata": {},
   "source": [
    "## Freezing the model to predict outcome type"
   ]
  },
  {
   "cell_type": "code",
   "execution_count": 462,
   "metadata": {},
   "outputs": [],
   "source": [
    "MODEL_PATH_TMP = DATA_PATH.replace(\"/data\", \"/models\")\n",
    "MODEL_PATH = os.path.join(MODEL_PATH_TMP, \"ml_models/outcome.pkl\")"
   ]
  },
  {
   "cell_type": "code",
   "execution_count": 463,
   "metadata": {},
   "outputs": [],
   "source": [
    "import pickle\n",
    "\n",
    "with open(MODEL_PATH, 'wb') as f:\n",
    "    pickle.dump(rfc, f)"
   ]
  },
  {
   "cell_type": "code",
   "execution_count": null,
   "metadata": {},
   "outputs": [],
   "source": []
  }
 ],
 "metadata": {
  "kernelspec": {
   "display_name": "venv",
   "language": "python",
   "name": "python3"
  },
  "language_info": {
   "codemirror_mode": {
    "name": "ipython",
    "version": 3
   },
   "file_extension": ".py",
   "mimetype": "text/x-python",
   "name": "python",
   "nbconvert_exporter": "python",
   "pygments_lexer": "ipython3",
   "version": "3.11.4"
  }
 },
 "nbformat": 4,
 "nbformat_minor": 2
}
